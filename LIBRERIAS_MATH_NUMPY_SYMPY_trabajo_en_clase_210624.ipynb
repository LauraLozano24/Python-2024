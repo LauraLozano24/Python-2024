{
  "nbformat": 4,
  "nbformat_minor": 0,
  "metadata": {
    "colab": {
      "provenance": []
    },
    "kernelspec": {
      "name": "python3",
      "display_name": "Python 3"
    },
    "language_info": {
      "name": "python"
    }
  },
  "cells": [
    {
      "cell_type": "markdown",
      "source": [
        "**LIBRERIAS MATH, NUMPY, SYMPY**"
      ],
      "metadata": {
        "id": "fszlI1M5w_x1"
      }
    },
    {
      "cell_type": "code",
      "source": [
        "import math\n",
        "import numpy\n",
        "import sympy\n",
        "print(math.sin(math.pi/3))\n",
        "print(numpy.sin(numpy.pi/3))\n",
        "print(sympy.sin(sympy.pi/3))\n",
        "sympy.sin(sympy.pi/5)\n"
      ],
      "metadata": {
        "colab": {
          "base_uri": "https://localhost:8080/",
          "height": 121
        },
        "id": "cmqBZ_cYweYK",
        "outputId": "c93ad74a-c96e-4903-e616-834d385b6a84"
      },
      "execution_count": null,
      "outputs": [
        {
          "output_type": "stream",
          "name": "stdout",
          "text": [
            "0.8660254037844386\n",
            "0.8660254037844386\n",
            "sqrt(3)/2\n"
          ]
        },
        {
          "output_type": "execute_result",
          "data": {
            "text/plain": [
              "sqrt(5/8 - sqrt(5)/8)"
            ],
            "text/latex": "$\\displaystyle \\sqrt{\\frac{5}{8} - \\frac{\\sqrt{5}}{8}}$"
          },
          "metadata": {},
          "execution_count": 6
        }
      ]
    },
    {
      "cell_type": "code",
      "source": [
        "from scipy.linalg import solve\n",
        "a2=[[2, 3, 4], [2, 6, 8], [4, 9, -4]]\n",
        "b2 = [3, 5, 4]\n",
        "x=solve(a2, b2)\n",
        "print(\"la solución del sistema es : \", x)\n"
      ],
      "metadata": {
        "colab": {
          "base_uri": "https://localhost:8080/"
        },
        "id": "M0xIOuogmvyh",
        "outputId": "6ba7d695-271d-40d6-a00f-7cb9bd1661a3"
      },
      "execution_count": null,
      "outputs": [
        {
          "output_type": "stream",
          "name": "stdout",
          "text": [
            "la solución del sistema es :  [0.5        0.33333333 0.25      ]\n"
          ]
        }
      ]
    },
    {
      "cell_type": "code",
      "execution_count": null,
      "metadata": {
        "colab": {
          "base_uri": "https://localhost:8080/",
          "height": 58
        },
        "id": "lWHkxD4kk7JK",
        "outputId": "8c074fa2-bd29-4cbd-c0ae-04ef7b38fd63"
      },
      "outputs": [
        {
          "output_type": "execute_result",
          "data": {
            "text/plain": [
              "{(1/2, 1/3, 1/4)}"
            ],
            "text/latex": "$\\displaystyle \\left\\{\\left( \\frac{1}{2}, \\  \\frac{1}{3}, \\  \\frac{1}{4}\\right)\\right\\}$"
          },
          "metadata": {},
          "execution_count": 10
        }
      ],
      "source": [
        "\n",
        "from sympy import *\n",
        "x, y, z  = symbols(\"x y z\")\n",
        "linsolve([2*x + 3*y + 4*z -3, 2*x + 6*y + 8*z - 5 , 4*x + 9*y -4*z - 4],[x, y, z])"
      ]
    },
    {
      "cell_type": "markdown",
      "source": [
        "x + y + z = 72000\n",
        "x - y = 8500\n",
        "3x + 3y - 13z = 0"
      ],
      "metadata": {
        "id": "kG5JUKnMo941"
      }
    },
    {
      "cell_type": "code",
      "source": [
        "import numpy as np\n",
        "a = [[16/13, 16/13], [1,-1]]\n",
        "b = [72000,8500]\n",
        "x = np.linalg.solve(a, b)\n",
        "print(\"la solucion del sistema es : \",x)\n",
        "\n",
        "\n"
      ],
      "metadata": {
        "colab": {
          "base_uri": "https://localhost:8080/"
        },
        "id": "B2KzyNjxolqd",
        "outputId": "649bb2e3-f0dc-4063-fbd5-db531e7fbeeb"
      },
      "execution_count": null,
      "outputs": [
        {
          "output_type": "stream",
          "name": "stdout",
          "text": [
            "la solucion del sistema es :  [33500. 25000.]\n"
          ]
        }
      ]
    },
    {
      "cell_type": "code",
      "source": [
        "from scipy.linalg import solve\n",
        "a=[[1, 1, 1], [1, -1, 0], [3, 3, -13]]\n",
        "b = [72000,8500,0]\n",
        "x=solve(a, b)\n",
        "print(\"la solución del sistema es : \", x)"
      ],
      "metadata": {
        "colab": {
          "base_uri": "https://localhost:8080/"
        },
        "id": "toB_y2LqsOn2",
        "outputId": "d9fd1213-2823-4f14-8a82-02729ffb55ba"
      },
      "execution_count": null,
      "outputs": [
        {
          "output_type": "stream",
          "name": "stdout",
          "text": [
            "la solución del sistema es :  [33500. 25000. 13500.]\n"
          ]
        }
      ]
    },
    {
      "cell_type": "code",
      "source": [
        "import math\n",
        "import numpy\n",
        "ls =numpy.linspace(0, 10*numpy.pi,100)\n",
        "ar =numpy.arange(0, 10*numpy.pi, 0.1)\n",
        "print(ls)\n",
        "print(ar)"
      ],
      "metadata": {
        "colab": {
          "base_uri": "https://localhost:8080/"
        },
        "id": "GoSVRTlIuQ3M",
        "outputId": "084598ac-7e54-4c91-9bab-054dc6e55fc9"
      },
      "execution_count": null,
      "outputs": [
        {
          "output_type": "stream",
          "name": "stdout",
          "text": [
            "[ 0.          0.31733259  0.63466518  0.95199777  1.26933037  1.58666296\n",
            "  1.90399555  2.22132814  2.53866073  2.85599332  3.17332591  3.4906585\n",
            "  3.8079911   4.12532369  4.44265628  4.75998887  5.07732146  5.39465405\n",
            "  5.71198664  6.02931923  6.34665183  6.66398442  6.98131701  7.2986496\n",
            "  7.61598219  7.93331478  8.25064737  8.56797996  8.88531256  9.20264515\n",
            "  9.51997774  9.83731033 10.15464292 10.47197551 10.7893081  11.10664069\n",
            " 11.42397329 11.74130588 12.05863847 12.37597106 12.69330365 13.01063624\n",
            " 13.32796883 13.64530142 13.96263402 14.27996661 14.5972992  14.91463179\n",
            " 15.23196438 15.54929697 15.86662956 16.18396215 16.50129475 16.81862734\n",
            " 17.13595993 17.45329252 17.77062511 18.0879577  18.40529029 18.72262289\n",
            " 19.03995548 19.35728807 19.67462066 19.99195325 20.30928584 20.62661843\n",
            " 20.94395102 21.26128362 21.57861621 21.8959488  22.21328139 22.53061398\n",
            " 22.84794657 23.16527916 23.48261175 23.79994435 24.11727694 24.43460953\n",
            " 24.75194212 25.06927471 25.3866073  25.70393989 26.02127248 26.33860508\n",
            " 26.65593767 26.97327026 27.29060285 27.60793544 27.92526803 28.24260062\n",
            " 28.55993321 28.87726581 29.1945984  29.51193099 29.82926358 30.14659617\n",
            " 30.46392876 30.78126135 31.09859394 31.41592654]\n",
            "[ 0.   0.1  0.2  0.3  0.4  0.5  0.6  0.7  0.8  0.9  1.   1.1  1.2  1.3\n",
            "  1.4  1.5  1.6  1.7  1.8  1.9  2.   2.1  2.2  2.3  2.4  2.5  2.6  2.7\n",
            "  2.8  2.9  3.   3.1  3.2  3.3  3.4  3.5  3.6  3.7  3.8  3.9  4.   4.1\n",
            "  4.2  4.3  4.4  4.5  4.6  4.7  4.8  4.9  5.   5.1  5.2  5.3  5.4  5.5\n",
            "  5.6  5.7  5.8  5.9  6.   6.1  6.2  6.3  6.4  6.5  6.6  6.7  6.8  6.9\n",
            "  7.   7.1  7.2  7.3  7.4  7.5  7.6  7.7  7.8  7.9  8.   8.1  8.2  8.3\n",
            "  8.4  8.5  8.6  8.7  8.8  8.9  9.   9.1  9.2  9.3  9.4  9.5  9.6  9.7\n",
            "  9.8  9.9 10.  10.1 10.2 10.3 10.4 10.5 10.6 10.7 10.8 10.9 11.  11.1\n",
            " 11.2 11.3 11.4 11.5 11.6 11.7 11.8 11.9 12.  12.1 12.2 12.3 12.4 12.5\n",
            " 12.6 12.7 12.8 12.9 13.  13.1 13.2 13.3 13.4 13.5 13.6 13.7 13.8 13.9\n",
            " 14.  14.1 14.2 14.3 14.4 14.5 14.6 14.7 14.8 14.9 15.  15.1 15.2 15.3\n",
            " 15.4 15.5 15.6 15.7 15.8 15.9 16.  16.1 16.2 16.3 16.4 16.5 16.6 16.7\n",
            " 16.8 16.9 17.  17.1 17.2 17.3 17.4 17.5 17.6 17.7 17.8 17.9 18.  18.1\n",
            " 18.2 18.3 18.4 18.5 18.6 18.7 18.8 18.9 19.  19.1 19.2 19.3 19.4 19.5\n",
            " 19.6 19.7 19.8 19.9 20.  20.1 20.2 20.3 20.4 20.5 20.6 20.7 20.8 20.9\n",
            " 21.  21.1 21.2 21.3 21.4 21.5 21.6 21.7 21.8 21.9 22.  22.1 22.2 22.3\n",
            " 22.4 22.5 22.6 22.7 22.8 22.9 23.  23.1 23.2 23.3 23.4 23.5 23.6 23.7\n",
            " 23.8 23.9 24.  24.1 24.2 24.3 24.4 24.5 24.6 24.7 24.8 24.9 25.  25.1\n",
            " 25.2 25.3 25.4 25.5 25.6 25.7 25.8 25.9 26.  26.1 26.2 26.3 26.4 26.5\n",
            " 26.6 26.7 26.8 26.9 27.  27.1 27.2 27.3 27.4 27.5 27.6 27.7 27.8 27.9\n",
            " 28.  28.1 28.2 28.3 28.4 28.5 28.6 28.7 28.8 28.9 29.  29.1 29.2 29.3\n",
            " 29.4 29.5 29.6 29.7 29.8 29.9 30.  30.1 30.2 30.3 30.4 30.5 30.6 30.7\n",
            " 30.8 30.9 31.  31.1 31.2 31.3 31.4]\n"
          ]
        }
      ]
    },
    {
      "cell_type": "code",
      "source": [
        "import matplotlib.pyplot as plt\n",
        "res = numpy.sin(ls)\n",
        "plt.plot(ls, res)\n",
        "plt.show()\n"
      ],
      "metadata": {
        "colab": {
          "base_uri": "https://localhost:8080/",
          "height": 430
        },
        "id": "TdXkki_QvPFM",
        "outputId": "56fd7e9d-4b76-467e-e4c5-cbdb8afcddd0"
      },
      "execution_count": null,
      "outputs": [
        {
          "output_type": "display_data",
          "data": {
            "text/plain": [
              "<Figure size 640x480 with 1 Axes>"
            ],
            "image/png": "[encoded data removed]"
          },
          "metadata": {}
        }
      ]
    },
    {
      "cell_type": "code",
      "source": [
        "import matplotlib.pyplot as plt\n",
        "res = numpy.sin(ar)\n",
        "plt.plot(ar, res)\n",
        "plt.show()\n"
      ],
      "metadata": {
        "colab": {
          "base_uri": "https://localhost:8080/",
          "height": 430
        },
        "id": "OEoROgFLwD9L",
        "outputId": "18d7a201-3347-48aa-89c6-2ed99d039cc5"
      },
      "execution_count": null,
      "outputs": [
        {
          "output_type": "display_data",
          "data": {
            "text/plain": [
              "<Figure size 640x480 with 1 Axes>"
            ],
            "image/png": "[encoded data removed]"
          },
          "metadata": {}
        }
      ]
    },
    {
      "cell_type": "code",
      "source": [
        "math.sin(ls[5])"
      ],
      "metadata": {
        "colab": {
          "base_uri": "https://localhost:8080/"
        },
        "id": "VOLrAx2RwYjJ",
        "outputId": "c2f00742-c605-401f-bd08-67cdcc586893"
      },
      "execution_count": null,
      "outputs": [
        {
          "output_type": "execute_result",
          "data": {
            "text/plain": [
              "0.9998741276738751"
            ]
          },
          "metadata": {},
          "execution_count": 24
        }
      ]
    },
    {
      "cell_type": "code",
      "source": [],
      "metadata": {
        "id": "T1KnIg6Ew5A6"
      },
      "execution_count": null,
      "outputs": []
    },
    {
      "cell_type": "markdown",
      "source": [
        "listas, tuplas y diccionerios"
      ],
      "metadata": {
        "id": "rl1ejoamw5pU"
      }
    },
    {
      "cell_type": "code",
      "source": [
        "ejemplo1 = [1, 2, 3, 4, 5 ]\n",
        "print(ejemplo1)"
      ],
      "metadata": {
        "colab": {
          "base_uri": "https://localhost:8080/"
        },
        "id": "4KYufhGjw8fQ",
        "outputId": "a4bbd2a1-602c-44c2-83a4-d831533905e2"
      },
      "execution_count": null,
      "outputs": [
        {
          "output_type": "stream",
          "name": "stdout",
          "text": [
            "[1, 2, 3, 4, 5]\n"
          ]
        }
      ]
    },
    {
      "cell_type": "code",
      "source": [
        "ejemplo2 = [\"a\", 2.34,\"Algo\",5, true ]\n",
        "print(ejemplo2)"
      ],
      "metadata": {
        "colab": {
          "base_uri": "https://localhost:8080/"
        },
        "id": "J7N6qjJyxLtt",
        "outputId": "6f0433e5-d342-4c12-ed9d-5d43d9866c3d"
      },
      "execution_count": null,
      "outputs": [
        {
          "output_type": "stream",
          "name": "stdout",
          "text": [
            "['a', 2.34, 'Algo', 5, True]\n"
          ]
        }
      ]
    },
    {
      "cell_type": "code",
      "source": [
        "a = []\n",
        "for x in range(100):\n",
        "    if x%2 == 0:\n",
        "        a.append(x)\n",
        "print(a)"
      ],
      "metadata": {
        "colab": {
          "base_uri": "https://localhost:8080/"
        },
        "id": "pUCxTCK-xi4j",
        "outputId": "070374f0-93dc-4255-e44d-15217f5df887"
      },
      "execution_count": null,
      "outputs": [
        {
          "output_type": "stream",
          "name": "stdout",
          "text": [
            "[0, 2, 4, 6, 8, 10, 12, 14, 16, 18, 20, 22, 24, 26, 28, 30, 32, 34, 36, 38, 40, 42, 44, 46, 48, 50, 52, 54, 56, 58, 60, 62, 64, 66, 68, 70, 72, 74, 76, 78, 80, 82, 84, 86, 88, 90, 92, 94, 96, 98]\n"
          ]
        }
      ]
    },
    {
      "cell_type": "code",
      "source": [
        "IMP = []\n",
        "for x in range(10):\n",
        "    if x%3 == 0:\n",
        "        IMP.append(x)\n",
        "print(IMP)"
      ],
      "metadata": {
        "colab": {
          "base_uri": "https://localhost:8080/"
        },
        "id": "xVt5cVILs1Kn",
        "outputId": "85fdb256-28ce-4eee-d9d1-ccce104da0ef"
      },
      "execution_count": null,
      "outputs": [
        {
          "output_type": "stream",
          "name": "stdout",
          "text": [
            "[0, 3, 6, 9]\n"
          ]
        }
      ]
    },
    {
      "cell_type": "code",
      "source": [
        "ejemplo3=(1,2,True,\"hola\",5)\n",
        "print(ejemplo3)"
      ],
      "metadata": {
        "colab": {
          "base_uri": "https://localhost:8080/"
        },
        "id": "hIA4NpHWz8_K",
        "outputId": "38c95add-6d67-4538-e1c6-eef33e6be5cf"
      },
      "execution_count": null,
      "outputs": [
        {
          "output_type": "stream",
          "name": "stdout",
          "text": [
            "(1, 2, True, 'hola', 5)\n"
          ]
        }
      ]
    },
    {
      "cell_type": "code",
      "source": [
        "a.index(10)     #en que posicion se encuentra el valor del elemento 10 de la lista A"
      ],
      "metadata": {
        "colab": {
          "base_uri": "https://localhost:8080/"
        },
        "id": "YCG2-YTGx2Z4",
        "outputId": "6c2126ea-ac40-40a3-acf6-f2eb9a100573"
      },
      "execution_count": null,
      "outputs": [
        {
          "output_type": "execute_result",
          "data": {
            "text/plain": [
              "5"
            ]
          },
          "metadata": {},
          "execution_count": 28
        }
      ]
    },
    {
      "cell_type": "code",
      "source": [
        "a.pop(10)\n",
        "print(a)"
      ],
      "metadata": {
        "colab": {
          "base_uri": "https://localhost:8080/"
        },
        "id": "UR6OMvh-yHtN",
        "outputId": "7cb84443-2b17-4442-cdfc-ce78932a1c0a"
      },
      "execution_count": null,
      "outputs": [
        {
          "output_type": "stream",
          "name": "stdout",
          "text": [
            "[0, 2, 4, 6, 8, 10, 12, 14, 16, 18, 22, 24, 26, 28, 30, 32, 34, 36, 38, 40, 42, 44, 46, 48, 50, 52, 54, 56, 58, 60, 62, 64, 66, 68, 70, 72, 74, 76, 78, 80, 82, 84, 86, 88, 90, 92, 94, 96, 98]\n"
          ]
        }
      ]
    },
    {
      "cell_type": "markdown",
      "source": [
        "TUPLAS SE PONEN EN PARENTESIS Y NO CAMBIAN DE TAMAÑO, DE UN MISMO O DISTINTO TIPO DE VALOR"
      ],
      "metadata": {
        "id": "BVxbt7qryVhu"
      }
    },
    {
      "cell_type": "code",
      "source": [
        "def sumaComplejos(z1,z2):\n",
        "    return (z1[0]+z2[0],z1[1]+z2[1])\n",
        "\n",
        "def multComplejos(z1,z2):\n",
        "        return (z1[0]*z2[0]-z1[1]*z2[1],z1[0]*z2[1]+z1[1]*z2[0])\n",
        "z1 =(2,1)\n",
        "z2 = (3,4)\n",
        "print(sumaComplejos(z1,z2))\n",
        "print(multComplejos(z1,z2))\n"
      ],
      "metadata": {
        "colab": {
          "base_uri": "https://localhost:8080/"
        },
        "id": "eGHAGU96yd63",
        "outputId": "aa5e262b-3006-4c7e-e5eb-139f572eedc7"
      },
      "execution_count": null,
      "outputs": [
        {
          "output_type": "stream",
          "name": "stdout",
          "text": [
            "(5, 5)\n",
            "(2, 11)\n"
          ]
        }
      ]
    },
    {
      "cell_type": "code",
      "source": [
        "suma=sumaComplejos(z1,z2)\n",
        "suma"
      ],
      "metadata": {
        "colab": {
          "base_uri": "https://localhost:8080/"
        },
        "id": "3hIdaYGZy435",
        "outputId": "39a670b2-a589-4422-9659-514ce6846f5e"
      },
      "execution_count": null,
      "outputs": [
        {
          "output_type": "execute_result",
          "data": {
            "text/plain": [
              "(5, 5)"
            ]
          },
          "metadata": {},
          "execution_count": 37
        }
      ]
    },
    {
      "cell_type": "markdown",
      "source": [
        "**SUMA DE VECTORES GRAFICAMENTE**"
      ],
      "metadata": {
        "id": "EUHp26OA00QK"
      }
    },
    {
      "cell_type": "code",
      "source": [
        "import matplotlib.pyplot as plt\n",
        "z1 =(2,1)\n",
        "z2 = (3,4)\n",
        "def sumaVectores(z1,z2):\n",
        "    return (z1[0]+z2[0],z1[1]+z2[1])\n",
        "suma = sumaVectores(z1, z2)\n",
        "\n",
        "#GRAFICA LA SUMA Y CAMBIA PARAMETROS DE GRAFICACIÓN\n",
        "plt.quiver(0, 0, z1[0], z1[1], color='g', units='xy',scale=1)\n",
        "plt.quiver(z1[0], z1[1], z2[0], z2[1], color='b',\n",
        "           units='xy', scale=1)\n",
        "plt.quiver(0, 0, suma[0], suma[1], color='r',\n",
        "           units='xy',scale=1)\n",
        "plt.axis('scaled')\n",
        "plt.xlim(0, 6)\n",
        "plt.ylim(0, 6)\n",
        "plt.show()"
      ],
      "metadata": {
        "colab": {
          "base_uri": "https://localhost:8080/",
          "height": 435
        },
        "id": "HUijQ47e03M1",
        "outputId": "d12fa115-4b46-4810-b8e2-3fa6c40993d4"
      },
      "execution_count": null,
      "outputs": [
        {
          "output_type": "display_data",
          "data": {
            "text/plain": [
              "<Figure size 640x480 with 1 Axes>"
            ],
            "image/png": "[encoded data removed]"
          },
          "metadata": {}
        }
      ]
    },
    {
      "cell_type": "markdown",
      "source": [
        "diccionario, tiene un"
      ],
      "metadata": {
        "id": "9b8kV-sZ4Qp9"
      }
    },
    {
      "cell_type": "code",
      "source": [
        "calificaciones = {'Saul' : 8.3 , 'Greta' : 9.5 , 'Alex' : 7.8, 'Oscar' : 6.9, 'José' : 9.2}\n",
        "print(calificaciones['Saul'])"
      ],
      "metadata": {
        "id": "T8m6NlDw5T9g",
        "colab": {
          "base_uri": "https://localhost:8080/"
        },
        "outputId": "f95b924d-4feb-417a-96cd-b62957659153"
      },
      "execution_count": null,
      "outputs": [
        {
          "output_type": "stream",
          "name": "stdout",
          "text": [
            "8.3\n"
          ]
        }
      ]
    },
    {
      "cell_type": "markdown",
      "source": [
        "MODIFICA UN DATO DE LA LISTA Actualizar un dato"
      ],
      "metadata": {
        "id": "dlmRqOCmqxiP"
      }
    },
    {
      "cell_type": "code",
      "source": [
        "calificaciones['Oscar'] = 5\n",
        "print(calificaciones)"
      ],
      "metadata": {
        "colab": {
          "base_uri": "https://localhost:8080/"
        },
        "id": "K6B5JrRrqw0l",
        "outputId": "91123d62-3b7d-439d-de86-92b62a055176"
      },
      "execution_count": null,
      "outputs": [
        {
          "output_type": "stream",
          "name": "stdout",
          "text": [
            "{'Saul': 8.3, 'Greta': 9.5, 'Alex': 7.8, 'Oscar': 5, 'José': 9.2}\n"
          ]
        }
      ]
    },
    {
      "cell_type": "markdown",
      "source": [
        "AGREGA UN DATO A LA LISTA"
      ],
      "metadata": {
        "id": "suDYQ5UdrGvP"
      }
    },
    {
      "cell_type": "code",
      "source": [
        "calificaciones['Laura'] = 9.7\n",
        "print(calificaciones)\n",
        "calificaciones.update({'Raul': 10})\n",
        "print(calificaciones)\n"
      ],
      "metadata": {
        "colab": {
          "base_uri": "https://localhost:8080/"
        },
        "id": "fci8shCXrLYN",
        "outputId": "6869fc5e-9aaf-4b8d-ef06-c16987cf44be"
      },
      "execution_count": null,
      "outputs": [
        {
          "output_type": "stream",
          "name": "stdout",
          "text": [
            "{'Saul': 8.3, 'Greta': 9.5, 'Alex': 7.8, 'Oscar': 5, 'José': 9.2, 'Maria': 7.5, 'Laura': 9.7}\n",
            "{'Saul': 8.3, 'Greta': 9.5, 'Alex': 7.8, 'Oscar': 5, 'José': 9.2, 'Maria': 7.5, 'Laura': 9.7, 'Raul': 10}\n"
          ]
        }
      ]
    },
    {
      "cell_type": "markdown",
      "source": [
        "RECORRIDO DE UN DICCIONARIO CON UN CICLO **FOR y ordenado SORTED**"
      ],
      "metadata": {
        "id": "4E56JT6erg6T"
      }
    },
    {
      "cell_type": "code",
      "source": [
        "ssDiametro = {'Sun': 1392000,'Mercury' : 4879, 'Venus' : 12092, 'Earth' : 12756, 'Mars' : 6792,\n",
        "                    'Jupiter' : 142984 ,'Saturn': 120536, 'Uranus': 50724, 'Neptuno':49244,\n",
        "                    'Pluto': 2376.6}\n",
        "for x in ssDiametro:\n",
        "  print(f'The {x} have a diameter of {ssDiametro[x]}.')\n",
        "print ()\n",
        "for x in sorted(ssDiametro):\n",
        "  print(f'The {x} have a diameter of {ssDiametro[x]}.')"
      ],
      "metadata": {
        "id": "Eq0ts7Br6UWu",
        "colab": {
          "base_uri": "https://localhost:8080/"
        },
        "outputId": "3bb334f3-874d-46b0-8590-dff87d519921"
      },
      "execution_count": null,
      "outputs": [
        {
          "output_type": "stream",
          "name": "stdout",
          "text": [
            "The Sun have a diameter of 1392000.\n",
            "The Mercury have a diameter of 4879.\n",
            "The Venus have a diameter of 12092.\n",
            "The Earth have a diameter of 12756.\n",
            "The Mars have a diameter of 6792.\n",
            "The Jupiter have a diameter of 142984.\n",
            "The Saturn have a diameter of 120536.\n",
            "The Uranus have a diameter of 50724.\n",
            "The Neptuno have a diameter of 49244.\n",
            "The Pluto have a diameter of 2376.6.\n",
            "\n",
            "The Earth have a diameter of 12756.\n",
            "The Jupiter have a diameter of 142984.\n",
            "The Mars have a diameter of 6792.\n",
            "The Mercury have a diameter of 4879.\n",
            "The Neptuno have a diameter of 49244.\n",
            "The Pluto have a diameter of 2376.6.\n",
            "The Saturn have a diameter of 120536.\n",
            "The Sun have a diameter of 1392000.\n",
            "The Uranus have a diameter of 50724.\n",
            "The Venus have a diameter of 12092.\n"
          ]
        }
      ]
    },
    {
      "cell_type": "markdown",
      "source": [
        "PLANETA QUE TIENE UN DIAMETRO APROX DE 38% DE LA TIERRA"
      ],
      "metadata": {
        "id": "cghRKsLZsCnz"
      }
    },
    {
      "cell_type": "code",
      "source": [
        "r = ssDiametro['Mercury']/ssDiametro['Earth']\n",
        "print(r)\n",
        "print(r*100, '%')\n"
      ],
      "metadata": {
        "colab": {
          "base_uri": "https://localhost:8080/"
        },
        "id": "T55rNM7ssRE8",
        "outputId": "06493656-a4ec-466e-c1ea-45dd1713df57"
      },
      "execution_count": null,
      "outputs": [
        {
          "output_type": "stream",
          "name": "stdout",
          "text": [
            "0.38248667293822514\n",
            "38.248667293822514 %\n"
          ]
        }
      ]
    }
  ]
}