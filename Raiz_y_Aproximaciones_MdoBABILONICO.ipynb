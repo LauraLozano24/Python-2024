{
  "nbformat": 4,
  "nbformat_minor": 0,
  "metadata": {
    "colab": {
      "provenance": []
    },
    "kernelspec": {
      "name": "python3",
      "display_name": "Python 3"
    },
    "language_info": {
      "name": "python"
    }
  },
  "cells": [
    {
      "cell_type": "markdown",
      "source": [
        "raiz aproximada de n metodo BABILONICO                 \n",
        "n ES EL NUMERO DEL QUIERES CALCULAR LA RAIZ\n",
        "\n",
        "X1 ES UNA APROXIMACIÓN A LA RAIZ n"
      ],
      "metadata": {
        "id": "Vh6pgwXaRTCG"
      }
    },
    {
      "cell_type": "code",
      "source": [
        "# raiz aproximada de n metodo babilonicon =\n",
        "\n",
        "from decimal import Decimal, getcontext\n",
        "import math\n",
        "\n",
        "getcontext().prec = 5  # Establece la precisión total, incluyendo enteros y decimales\n",
        "\n",
        "sucRaiz = []\n",
        "\n",
        "n = 80\n",
        "x = 8\n",
        "\n",
        "for x1 in range(6):\n",
        "     x = (1/2)*(x + n/x)\n",
        "     sucRaiz.append(round(x,5))\n",
        "\n",
        "print(\"\\n La raíz aproximada de {0} es de {1:.6} \".format(n,x))\n",
        "\n",
        "# Redondea 4 decimal\n",
        "print(\"\\n La raíz con math de {0} es de {1:.5} \".format(n,math.sqrt(n)))\n",
        "\n",
        "# solo muestra 5 decimales\n",
        "print('\\n La sucesión (4 decimales) es:', [f\"{num:.4f}\" for num in sucRaiz])\n",
        "print('\\n La sucesión (5 decimales) es:', [f\"{num:.5f}\" for num in sucRaiz])\n",
        "\n",
        "\n"
      ],
      "metadata": {
        "colab": {
          "base_uri": "https://localhost:8080/"
        },
        "id": "JH-AdCWuRXOC",
        "outputId": "3d42deee-8a95-485f-cc3b-ba3be2e508d2"
      },
      "execution_count": null,
      "outputs": [
        {
          "output_type": "stream",
          "name": "stdout",
          "text": [
            "\n",
            " La raíz aproximada de 80 es de 8.94427 \n",
            "\n",
            " La raíz con math de 80 es de 8.9443 \n",
            "\n",
            " La sucesión (4 decimales) es: ['9.0000', '8.9444', '8.9443', '8.9443', '8.9443', '8.9443']\n",
            "\n",
            " La sucesión (5 decimales) es: ['9.00000', '8.94444', '8.94427', '8.94427', '8.94427', '8.94427']\n"
          ]
        }
      ]
    }
  ]
}