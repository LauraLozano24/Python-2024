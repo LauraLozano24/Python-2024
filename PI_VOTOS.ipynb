{
  "nbformat": 4,
  "nbformat_minor": 0,
  "metadata": {
    "colab": {
      "provenance": []
    },
    "kernelspec": {
      "name": "python3",
      "display_name": "Python 3"
    },
    "language_info": {
      "name": "python"
    }
  },
  "cells": [
    {
      "cell_type": "markdown",
      "source": [
        "PI"
      ],
      "metadata": {
        "id": "GzMnczy-Qyg2"
      }
    },
    {
      "cell_type": "code",
      "execution_count": null,
      "metadata": {
        "colab": {
          "base_uri": "https://localhost:8080/"
        },
        "id": "Xej3IQHwJg4v",
        "outputId": "780cd4ee-a99e-420d-eb03-715864da85f2"
      },
      "outputs": [
        {
          "output_type": "stream",
          "name": "stdout",
          "text": [
            "aprocimación de pi es  3.1416 y ya es buena\n"
          ]
        }
      ],
      "source": [
        "a= 3.1416\n",
        "print(\"aproximación de pi es \",a, \"y ya es buena\")"
      ]
    },
    {
      "cell_type": "markdown",
      "source": [
        "**CONVIERTE EL NUMERO EN UNA CADENA   con signo + y funcion str**"
      ],
      "metadata": {
        "id": "9EBFW2xeKF-v"
      }
    },
    {
      "cell_type": "code",
      "source": [
        "a= 3.1416\n",
        "print(\"aproximación de pi es \"+str(a) + \"y ya es buena\")"
      ],
      "metadata": {
        "colab": {
          "base_uri": "https://localhost:8080/"
        },
        "id": "LXj3dxo9J7Dx",
        "outputId": "cf3d750e-0b79-4fa2-8534-4bae2fec8db2"
      },
      "execution_count": null,
      "outputs": [
        {
          "output_type": "stream",
          "name": "stdout",
          "text": [
            "aproximación de pi es 3.1416y ya es buena\n"
          ]
        }
      ]
    },
    {
      "cell_type": "markdown",
      "source": [
        "dsdsds"
      ],
      "metadata": {
        "id": "GziCFNoDKiQ0"
      }
    },
    {
      "cell_type": "code",
      "source": [
        "import math\n",
        "a = math.pi\n",
        "\n",
        "print('aproximación de pi es '+str(a) + 'y ya es buena')\n",
        "print(f'aproximación de pi es  {a:.4f}  y ya es buena')   #cuantos decimales quiero\n",
        "print(f'aproximación de pi es {a:.30f}  y ya es buena')   #cuantos decimales quiero"
      ],
      "metadata": {
        "colab": {
          "base_uri": "https://localhost:8080/"
        },
        "id": "nfKdFW4YKolr",
        "outputId": "7c48308e-b5cc-4936-e55f-6fcf2cedaf93"
      },
      "execution_count": null,
      "outputs": [
        {
          "output_type": "stream",
          "name": "stdout",
          "text": [
            "aproximación de pi es 3.141592653589793y ya es buena\n",
            "aproximación de pi es  3.1416  y ya es buena\n",
            "aproximación de pi es 3.141592653589793115997963468544  y ya es buena\n"
          ]
        }
      ]
    },
    {
      "cell_type": "code",
      "source": [
        "votos = 123_453_789\n",
        "padron_electoral = 340_123_456\n",
        "porcentaje = votos/padron_electoral\n",
        "print('De {:5} votantes solo votaron {:9d} \\\n",
        "\\n que equivalen al {:2.2%} de votantes .format(padron_elector)')\n"
      ],
      "metadata": {
        "colab": {
          "base_uri": "https://localhost:8080/"
        },
        "id": "2d1mc-B8MCbC",
        "outputId": "c04fde17-fe02-488c-f443-ef00a24f8c7d"
      },
      "execution_count": null,
      "outputs": [
        {
          "output_type": "stream",
          "name": "stdout",
          "text": [
            "De {:5} votantes solo votaron {:9d} \n",
            " que equivalen al {:2.2%} de votantes .format(padron_elector)\n"
          ]
        }
      ]
    }
  ]
}