{
  "nbformat": 4,
  "nbformat_minor": 0,
  "metadata": {
    "colab": {
      "provenance": []
    },
    "kernelspec": {
      "name": "python3",
      "display_name": "Python 3"
    },
    "language_info": {
      "name": "python"
    }
  },
  "cells": [
    {
      "cell_type": "code",
      "execution_count": null,
      "metadata": {
        "colab": {
          "base_uri": "https://localhost:8080/"
        },
        "id": "ivO3phGgKTR_",
        "outputId": "1792e3c1-1176-47cc-aef8-49880bea05f8"
      },
      "outputs": [
        {
          "output_type": "stream",
          "name": "stdout",
          "text": [
            "Vamos a calcular las raíces de la ecuación cuadrática ax^2 + bx + c = 0\n",
            "Introduce el valor de a: 9\n",
            "Introduce el valor de b: -2\n",
            "Introduce el valor de c: 1\n",
            "Las raíces son (0.1111111111111111+0.3142696805273545j) y (0.1111111111111111-0.3142696805273545j)\n"
          ]
        }
      ],
      "source": [
        "### CALCULAR RAICES DE ECUACION CUADRATICA\n",
        "import math\n",
        "\n",
        "def calcular_raices():\n",
        "    print(\"Vamos a calcular las raíces de la ecuación cuadrática ax^2 + bx + c = 0\")\n",
        "\n",
        "    # Solicitar los coeficientes al usuario\n",
        "    a = float(input(\"Introduce el valor de a: \"))\n",
        "    b = float(input(\"Introduce el valor de b: \"))\n",
        "    c = float(input(\"Introduce el valor de c: \"))\n",
        "\n",
        "    # Calcula el discriminante\n",
        "    discriminante = b**2 - 4*a*c\n",
        "\n",
        "    if discriminante > 0:\n",
        "        # Dos soluciones reales\n",
        "        raiz1 = (-b + math.sqrt(discriminante)) / (2*a)\n",
        "        raiz2 = (-b - math.sqrt(discriminante)) / (2*a)\n",
        "        print(f\"Las raíces son {raiz1} y {raiz2}\")\n",
        "    elif discriminante == 0:\n",
        "        # Una solución real\n",
        "        raiz = -b / (2*a)\n",
        "        print(f\"La raíz es {raiz}\")\n",
        "    else:\n",
        "        # Soluciones complejas\n",
        "        parte_real = -b / (2*a)\n",
        "        parte_imaginaria = math.sqrt(-discriminante) / (2*a)\n",
        "        raiz1 = complex(parte_real, parte_imaginaria)\n",
        "        raiz2 = complex(parte_real, -parte_imaginaria)\n",
        "        print(f\"Las raíces son {raiz1} y {raiz2}\")\n",
        "\n",
        "# Ejecutar la función\n",
        "calcular_raices()"
      ]
    }
  ]
}