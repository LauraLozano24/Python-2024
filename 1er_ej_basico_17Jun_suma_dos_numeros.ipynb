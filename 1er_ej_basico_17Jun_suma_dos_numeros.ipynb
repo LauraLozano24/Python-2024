{
  "nbformat": 4,
  "nbformat_minor": 0,
  "metadata": {
    "colab": {
      "provenance": []
    },
    "kernelspec": {
      "name": "python3",
      "display_name": "Python 3"
    },
    "language_info": {
      "name": "python"
    }
  },
  "cells": [
    {
      "cell_type": "markdown",
      "source": [
        "R. Laura Lozano V. 17 Jun 2024\n",
        "\n",
        "\n",
        "SUMA DOS NUMEROS CONSTANTES"
      ],
      "metadata": {
        "id": "6UVH3Lir1jM3"
      }
    },
    {
      "cell_type": "code",
      "source": [
        "# SUMA DOS NUMEROS\n",
        "#se asignan dos valores constantes a variables\n",
        "num1 = 14\n",
        "num2 = 2\n",
        "\n",
        "# Sumo los números\n",
        "suma = num1 + num2\n",
        "\n",
        "# Mostrar el resultado\n",
        "print(\"La suma de\", numero1, \"y\", numero2, \"es:\", suma)"
      ],
      "metadata": {
        "colab": {
          "base_uri": "https://localhost:8080/"
        },
        "id": "0NE-yjYM8i78",
        "outputId": "509b70b9-610e-49ea-8538-413eb0279ffb"
      },
      "execution_count": null,
      "outputs": [
        {
          "output_type": "stream",
          "name": "stdout",
          "text": [
            "La suma de 14 y 2 es: 16\n"
          ]
        }
      ]
    },
    {
      "cell_type": "code",
      "source": [
        "# # OPERACIONES BASICAS DE DOS NUMEROS SOLICITADOS\n",
        "num1 = float(input(\"Captura el primer número: \"))\n",
        "num2 = float(input(\"Captura el segundo número: \"))\n",
        "\n",
        "# Sumar los números\n",
        "suma = num1 + num2\n",
        "resta = num1 - num2\n",
        "mult = num1 * num2\n",
        "# Mostrar el resultado\n",
        "print(\"\\n La suma de\", num1, \"y\", num2, \"es:\", suma)\n",
        "print(\"\\n La resta de\", num1, \"y\", num2, \"es:\", resta)\n",
        "print(\"\\n La multiplicación de\", num1, \"y\", num2, \"es:\", mult)"
      ],
      "metadata": {
        "colab": {
          "base_uri": "https://localhost:8080/"
        },
        "id": "yBHb5GKa8aJD",
        "outputId": "50d9c21b-6345-4a93-bc3e-030756538789"
      },
      "execution_count": null,
      "outputs": [
        {
          "output_type": "stream",
          "name": "stdout",
          "text": [
            "Captura el primer número: 5\n",
            "Captura el segundo número: 6\n",
            "\n",
            " La suma de 5.0 y 6.0 es: 11.0\n",
            "\n",
            " La resta de 5.0 y 6.0 es: -1.0\n",
            "\n",
            " La multiplicación de 5.0 y 6.0 es: 30.0\n"
          ]
        }
      ]
    },
    {
      "cell_type": "code",
      "source": [],
      "metadata": {
        "id": "rOPQxeSh8hXZ"
      },
      "execution_count": null,
      "outputs": []
    }
  ]
}