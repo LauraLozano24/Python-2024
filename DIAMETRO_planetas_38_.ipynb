{
  "nbformat": 4,
  "nbformat_minor": 0,
  "metadata": {
    "colab": {
      "provenance": []
    },
    "kernelspec": {
      "name": "python3",
      "display_name": "Python 3"
    },
    "language_info": {
      "name": "python"
    }
  },
  "cells": [
    {
      "cell_type": "code",
      "execution_count": null,
      "metadata": {
        "colab": {
          "base_uri": "https://localhost:8080/"
        },
        "id": "jDngdW9yHAiX",
        "outputId": "4caf6550-05aa-4bb1-ac51-87a8e321e1d3"
      },
      "outputs": [
        {
          "output_type": "stream",
          "name": "stdout",
          "text": [
            "The Sun have a diameter of 1392000.\n",
            "The Mercury have a diameter of 4879.\n",
            "The Venus have a diameter of 12092.\n",
            "The Earth have a diameter of 12756.\n",
            "The Mars have a diameter of 6792.\n",
            "The Jupiter have a diameter of 142984.\n",
            "The Saturn have a diameter of 120536.\n",
            "The Uranus have a diameter of 50724.\n",
            "The Neptuno have a diameter of 49244.\n",
            "The Pluto have a diameter of 2376.6.\n",
            "\n",
            "The Earth have a diameter of 12756.\n",
            "The Jupiter have a diameter of 142984.\n",
            "The Mars have a diameter of 6792.\n",
            "The Mercury have a diameter of 4879.\n",
            "The Neptuno have a diameter of 49244.\n",
            "The Pluto have a diameter of 2376.6.\n",
            "The Saturn have a diameter of 120536.\n",
            "The Sun have a diameter of 1392000.\n",
            "The Uranus have a diameter of 50724.\n",
            "The Venus have a diameter of 12092.\n",
            "\n"
          ]
        }
      ],
      "source": [
        "# Diámetros de los planetas en kilómetros\n",
        "ssDiametro = {'Sun': 1392000,'Mercury' : 4879, 'Venus' : 12092, 'Earth' : 12756, 'Mars' : 6792,\n",
        "                    'Jupiter' : 142984 ,'Saturn': 120536, 'Uranus': 50724, 'Neptuno':49244,\n",
        "                    'Pluto': 2376.6}\n",
        "for x in ssDiametro:\n",
        "  print(f'The {x} have a diameter of {ssDiametro[x]}.')\n",
        "print ()\n",
        "\n",
        "for x in sorted(ssDiametro):\n",
        "  print(f'The {x} have a diameter of {ssDiametro[x]}.')\n",
        "print ()"
      ]
    },
    {
      "cell_type": "markdown",
      "source": [
        "DIAMETRO DEL 38%"
      ],
      "metadata": {
        "id": "8JGfXm5fHpcy"
      }
    },
    {
      "cell_type": "code",
      "source": [
        "# Calcular el 38% del diámetro de la Tierra\n",
        "# Diámetros de los planetas en kilómetros\n",
        "diametros = {\n",
        "    \"Earth\": 12756,\n",
        "    \"Jupiter\": 142984,\n",
        "    \"Mars\": 6792,\n",
        "    \"Mercury\": 4879,\n",
        "    \"Neptune\": 49244,\n",
        "    \"Pluto\": 2376.6,\n",
        "    \"Saturn\": 120536,\n",
        "    \"Sun\": 1392000,\n",
        "    \"Uranus\": 50724,\n",
        "    \"Venus\": 12092    }\n",
        "\n",
        "# Calcular el 38% del diámetro de la Tierra\n",
        "diametro_tierra = diametros[\"Earth\"]\n",
        "diametro38 = 0.38 * diametro_tierra\n",
        "\n",
        "# Encontrar el planeta con el diámetro más cercano al valor objetivo\n",
        "planeta_cercano = None\n",
        "diferencia_minima = float('inf')\n",
        "\n",
        "for planeta, diametro in diametros.items():\n",
        "    diferencia = abs(diametro - diametro38)\n",
        "    if diferencia < diferencia_minima:\n",
        "        diferencia_minima = diferencia\n",
        "        planeta_cercano = planeta\n",
        "\n",
        "print(f\"El planeta con un diámetro más cercano al 38% del diámetro de la Tierra es: {planeta_cercano}\\n\")"
      ],
      "metadata": {
        "colab": {
          "base_uri": "https://localhost:8080/"
        },
        "id": "yjMW8BrzHsET",
        "outputId": "8258567a-2d78-4256-d8ea-0d4499f6c81a"
      },
      "execution_count": null,
      "outputs": [
        {
          "output_type": "stream",
          "name": "stdout",
          "text": [
            "El planeta con un diámetro más cercano al 38% del diámetro de la Tierra es: Mercury\n"
          ]
        }
      ]
    }
  ]
}