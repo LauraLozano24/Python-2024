{
  "nbformat": 4,
  "nbformat_minor": 0,
  "metadata": {
    "colab": {
      "provenance": []
    },
    "kernelspec": {
      "name": "python3",
      "display_name": "Python 3"
    },
    "language_info": {
      "name": "python"
    }
  },
  "cells": [
    {
      "cell_type": "markdown",
      "source": [
        "TAREA: 20 Jun 24_Conmutativa_Asociativa de Vectores (arreglos)      \n",
        "dos elementos en el vector, solo verifica si es verdadera o falsa"
      ],
      "metadata": {
        "id": "WDdoWoNmMyg5"
      }
    },
    {
      "cell_type": "code",
      "execution_count": null,
      "metadata": {
        "colab": {
          "base_uri": "https://localhost:8080/"
        },
        "id": "xe4JaIf1Cfua",
        "outputId": "bb77fc9f-35a1-4290-e021-14ed2c3f3e32"
      },
      "outputs": [
        {
          "output_type": "stream",
          "name": "stdout",
          "text": [
            "La propiedad conmutativa se cumple.\n",
            "La propiedad asociativa se cumple.\n"
          ]
        }
      ],
      "source": [
        "import numpy as np\n",
        "\n",
        "def verify_commutative(v1, v2):\n",
        "\n",
        "    # Verifica la propiedad conmutativa\n",
        "    return np.array_equal(v1 + v2, v2 + v1)\n",
        "\n",
        "def verify_associative(v1, v2, v3):\n",
        "    # Verifica la propiedad asociativa\n",
        "    return np.array_equal((v1 + v2) + v3, v1 + (v2 + v3))\n",
        "\n",
        "# Definimos tres vectores en 2D\n",
        "v1 = np.array([1, 3])\n",
        "v2 = np.array([5, 2])\n",
        "v3 = np.array([4, 6])\n",
        "\n",
        "# Verificamos la propiedad conmutativa\n",
        "if verify_commutative(v1, v2):\n",
        "    print(\"La propiedad conmutativa se cumple.\")\n",
        "else:\n",
        "    print(\"Lapropiedad conmutativa NO se cumple.\")\n",
        "\n",
        "# Verificamos la propiedad asociativa\n",
        "if verify_associative(v1, v2, v3):\n",
        "    print(\"La propiedad asociativa se cumple.\")\n",
        "else:\n",
        "    print(\"La propiedad asociativa NO se cumple.\")\n"
      ]
    },
    {
      "cell_type": "code",
      "source": [
        "import numpy as np\n",
        "\n",
        "# Definir tres vectores\n",
        "u = np.array([1, 2, 3])\n",
        "v = np.array([4, 5, 6])\n",
        "w = np.array([7, 8, 9])\n",
        "\n",
        "# Propiedad ASOCIATIVA: (u + v) + w = u + (v + w)\n",
        "asociativa = np.array_equal((u + v) + w, u + (v + w))\n",
        "\n",
        "# Propiedad CONMUTATIVA: u + v + w = v + u + w\n",
        "conmutativa = np.array_equal(u + v+ w , v + u+ w)\n",
        "\n",
        "# Calcular los resultados\n",
        "resultado_conmutativa_1 = u + v\n",
        "resultado_conmutativa_2 = v + u\n",
        "resultado_asociativa_1 = (u + v) + w\n",
        "resultado_asociativa_2 = u + (v + w)\n",
        "\n",
        "# Sumar los valores contenidos en los vectores resultantes\n",
        "sum_asociativa_1 = np.sum(resultado_asociativa_1)\n",
        "sum_asociativa_2 = np.sum(resultado_asociativa_2)\n",
        "\n",
        "sum_conmutativa_1 = np.sum(resultado_conmutativa_1)\n",
        "sum_conmutativa_2 = np.sum(resultado_conmutativa_2)\n",
        "\n",
        "print(f\"Propiedad Conmutativa (u + v + w = v + u + w): {conmutativa}\")\n",
        "print(f\"Valores de u + v: {resultado_asociativa_1}, Suma: {sum_asociativa_1}\")\n",
        "print(f\"Valores de v + u: {resultado_asociativa_2}, Suma: {sum_asociativa_2}\")\n",
        "\n",
        "print(f\"Valores de v + u: {resultado_conmutativa_2}\")\n",
        "print(f\"Propiedad Asociativa ((u + v) + w = u + (v + w)): {asociativa}\")\n",
        "print(f\"Valores de u + v: {resultado_conmutativa_1}, Suma: {sum_conmutativa_1}\")\n",
        "print(f\"Valores de v + u: {resultado_conmutativa_2}, Suma: {sum_conmutativa_2}\")\n",
        "\n",
        "print(f\"Propiedad Conmutativa (u + v + w = v + u + w): {conmutativa}\")"
      ],
      "metadata": {
        "colab": {
          "base_uri": "https://localhost:8080/"
        },
        "id": "WE79_da_Gkb2",
        "outputId": "b5f5906e-164f-4503-f3e6-ee45cbfb96c4"
      },
      "execution_count": null,
      "outputs": [
        {
          "output_type": "stream",
          "name": "stdout",
          "text": [
            "Propiedad Conmutativa (u + v = v + u): True\n",
            "Valores de u + v: [12 15 18], Suma: 45\n",
            "Valores de v + u: [12 15 18], Suma: 45\n",
            "Valores de v + u: [5 7 9]\n",
            "Propiedad Asociativa ((u + v) + w = u + (v + w)): True\n",
            "Valores de u + v: [5 7 9], Suma: 21\n",
            "Valores de v + u: [5 7 9], Suma: 21\n"
          ]
        }
      ]
    },
    {
      "cell_type": "markdown",
      "source": [
        "Codigo con tres elementos en el ARreglo (vector)\n",
        "Verifica si haciendo la operación se cumple la propiedad, sumandolos lementos del Vector"
      ],
      "metadata": {
        "id": "Jy5LBJ5mNi7i"
      }
    },
    {
      "cell_type": "code",
      "source": [
        "import numpy as np\n",
        "\n",
        "# Definicion de 3 vectores\n",
        "u = np.array([11, 13, 15])\n",
        "v = np.array([17, 19, 12])\n",
        "w = np.array([14, 16, 18])\n",
        "\n",
        "# Propiedad ASOCIATIVA: (u + v) + w = u + (v + w) Regresa un TRUE si son iguales\n",
        "asociativa = np.array_equal(v + u + w, w + u + v)\n",
        "z = 2\n",
        "asociativa1 = np.array_equal(v + u + w, u + v + z)\n",
        "\n",
        " # Propiedad CONMUTATIVA: w + u + v = v + u + w\n",
        "conmutativa = np.array_equal(w + u + v, v + u + w)\n",
        "conmutativa1 = np.array_equal(w + u + v, u + v + z)\n",
        "\n",
        "# Calcular los resultados\n",
        "resultado_asociativa_1 = (u + v) + w\n",
        "resultado_asociativa_2 = u + (v + w)\n",
        "resultado_asociativa_3 = u + v + z\n",
        "\n",
        "resultado_conmutativa_1 = v + u + w\n",
        "resultado_conmutativa_2 = w + u + v\n",
        "resultado_conmutativa_3 = u + v + z\n",
        "\n",
        "# Sumar los valores de los vectores resultantes\n",
        "suma_asociativa_1 = np.sum(resultado_asociativa_1)\n",
        "suma_asociativa_2 = np.sum(resultado_asociativa_2)\n",
        "suma_asociativa_3 = np.sum(resultado_asociativa_3)\n",
        "\n",
        "suma_conmutativa_1 = np.sum(resultado_conmutativa_1)\n",
        "suma_conmutativa_2 = np.sum(resultado_conmutativa_2)\n",
        "suma_conmutativa_3 = np.sum(resultado_conmutativa_3)\n",
        "\n",
        "print(\"\\n COMPROBANDO PROPIEDADES ASOCIATIVAS Y CONMUTATIVAS DE VESTORES (Arreglos)\\n\")\n",
        "print(f\" Propiedad Asociativa ((u + v) + w = u + (v + w)): {asociativa}\")\n",
        "print(f\" Valores de (u + v) + w: {resultado_asociativa_1}, Suma: {suma_asociativa_1}\")\n",
        "print(f\" Valores de u + (v + w): {resultado_asociativa_2}, Suma: {suma_asociativa_2}\")\n",
        "\n",
        "print(f\"\\n Propiedad Asociativa ((u + v) + w = u + (v + z)): {asociativa1}\")\n",
        "print(f\" Valores de (u + v) + z: {resultado_asociativa_3}, Suma: {suma_asociativa_3}\")\n",
        "print(f\" Valores de u + (v + w): {resultado_asociativa_2}, Suma: {suma_asociativa_2}\")\n",
        "\n",
        "print(f\"\\n Propiedad Conmutativa (w + u + v = u + v + z): {conmutativa}\")\n",
        "print(f\" Valores de w + u + v: {resultado_conmutativa_2}, Suma: {suma_conmutativa_2}\")\n",
        "print(f\" Valores de u + v + z: {resultado_conmutativa_3}, Suma: {suma_conmutativa_3}\")\n",
        "\n"
      ],
      "metadata": {
        "colab": {
          "base_uri": "https://localhost:8080/"
        },
        "id": "J-c3RiBwKP6S",
        "outputId": "1f752661-f0d3-46da-9ea3-ac880c5ac2c5"
      },
      "execution_count": null,
      "outputs": [
        {
          "output_type": "stream",
          "name": "stdout",
          "text": [
            "\n",
            " COMPROBANDO PROPIEDADES ASOCIATIVAS Y CONMUTATIVAS DE VESTORES (Arreglos)\n",
            "\n",
            " Propiedad Asociativa ((u + v) + w = u + (v + w)): True\n",
            " Valores de (u + v) + w: [42 48 45], Suma: 135\n",
            " Valores de u + (v + w): [42 48 45], Suma: 135\n",
            "\n",
            " Propiedad Asociativa ((u + v) + w = u + (v + z)): False\n",
            " Valores de (u + v) + z: [30 34 29], Suma: 93\n",
            " Valores de u + (v + w): [42 48 45], Suma: 135\n",
            "\n",
            " Propiedad Conmutativa (w + u + v = u + v + z): True\n",
            " Valores de w + u + v: [42 48 45], Suma: 135\n",
            " Valores de u + v + z: [30 34 29], Suma: 93\n"
          ]
        }
      ]
    }
  ]
}