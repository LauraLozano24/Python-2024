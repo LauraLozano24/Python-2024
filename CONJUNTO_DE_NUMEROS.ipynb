{
  "nbformat": 4,
  "nbformat_minor": 0,
  "metadata": {
    "colab": {
      "provenance": []
    },
    "kernelspec": {
      "name": "python3",
      "display_name": "Python 3"
    },
    "language_info": {
      "name": "python"
    }
  },
  "cells": [
    {
      "cell_type": "markdown",
      "source": [
        "ELEMENTOS BASICOS DE MATEMATICAS"
      ],
      "metadata": {
        "id": "7vUkGSWsiq1C"
      }
    },
    {
      "cell_type": "code",
      "execution_count": null,
      "metadata": {
        "colab": {
          "base_uri": "https://localhost:8080/"
        },
        "id": "DU_Mf0kIiV7j",
        "outputId": "86a80357-dd30-4ed8-84c2-c753b350254f"
      },
      "outputs": [
        {
          "output_type": "stream",
          "name": "stdout",
          "text": [
            "0\n",
            "1\n",
            "2\n",
            "3\n",
            "4\n"
          ]
        }
      ],
      "source": [
        "for x in range(5):\n",
        "    print(x)"
      ]
    },
    {
      "cell_type": "code",
      "source": [
        "for x in range(3,5):\n",
        "   print(x)\n",
        "\n"
      ],
      "metadata": {
        "colab": {
          "base_uri": "https://localhost:8080/"
        },
        "id": "g1NNgGj-i2hr",
        "outputId": "cd6fc79a-6930-4b9e-e050-2fdb26f0aa15"
      },
      "execution_count": null,
      "outputs": [
        {
          "output_type": "stream",
          "name": "stdout",
          "text": [
            "3\n",
            "4\n"
          ]
        }
      ]
    },
    {
      "cell_type": "markdown",
      "source": [
        "Conjunto de numeros naturales 1 al 20"
      ],
      "metadata": {
        "id": "OYG1EegsjQV_"
      }
    },
    {
      "cell_type": "code",
      "source": [
        "U = {1, 2, 3, 4, 5, 6, 7, 8, 9, 10, 11, 12, 13, 14, 15, 16, 17, 18, 19, 20}\n",
        "Uf = {x for x in range(1,21)}\n",
        "conjuntovacio = set()\n",
        "print(U)\n",
        "print(Uf)"
      ],
      "metadata": {
        "colab": {
          "base_uri": "https://localhost:8080/"
        },
        "id": "UzKd99mYjb5X",
        "outputId": "dff117b7-902a-4792-cbe4-ed30dc0a66df"
      },
      "execution_count": null,
      "outputs": [
        {
          "output_type": "stream",
          "name": "stdout",
          "text": [
            "{1, 2, 3, 4, 5, 6, 7, 8, 9, 10, 11, 12, 13, 14, 15, 16, 17, 18, 19, 20}\n",
            "{1, 2, 3, 4, 5, 6, 7, 8, 9, 10, 11, 12, 13, 14, 15, 16, 17, 18, 19, 20}\n"
          ]
        }
      ]
    },
    {
      "cell_type": "markdown",
      "source": [
        "**Conjunto A de numeros x tal que x par ; x < 10**"
      ],
      "metadata": {
        "id": "tnpqLdE6j4aQ"
      }
    },
    {
      "cell_type": "code",
      "source": [
        "A = {x for x in Uf if x%2 == 0 and x < 10}\n",
        "print(A)"
      ],
      "metadata": {
        "colab": {
          "base_uri": "https://localhost:8080/"
        },
        "id": "vjTinArSj-8J",
        "outputId": "947a6aed-a405-44e3-fe20-6e789cdcf4a4"
      },
      "execution_count": null,
      "outputs": [
        {
          "output_type": "stream",
          "name": "stdout",
          "text": [
            "{8, 2, 4, 6}\n"
          ]
        }
      ]
    },
    {
      "cell_type": "markdown",
      "source": [
        "**NUMEROS DE UN DIGITO**"
      ],
      "metadata": {
        "id": "AG11-ybmkj-3"
      }
    },
    {
      "cell_type": "code",
      "source": [
        "E = {x for x in Uf if x < 10}\n",
        "print(E)"
      ],
      "metadata": {
        "colab": {
          "base_uri": "https://localhost:8080/"
        },
        "id": "zrKmiarwj2b5",
        "outputId": "2a2a427c-f3d1-4248-92a2-6399a5aa09df"
      },
      "execution_count": null,
      "outputs": [
        {
          "output_type": "stream",
          "name": "stdout",
          "text": [
            "{1, 2, 3, 4, 5, 6, 7, 8, 9}\n"
          ]
        }
      ]
    },
    {
      "cell_type": "markdown",
      "source": [
        "**MULTIPLOS DE 3**"
      ],
      "metadata": {
        "id": "8BAFnTtFlW2v"
      }
    },
    {
      "cell_type": "code",
      "source": [
        "B = {x for x in Uf if x%3 == 0 and x < 10}\n",
        "print(B)\n",
        "ord"
      ],
      "metadata": {
        "colab": {
          "base_uri": "https://localhost:8080/"
        },
        "id": "YCtY7Vhjk_SX",
        "outputId": "fa564176-5b44-474f-a27f-9c0a92c5a3f1"
      },
      "execution_count": null,
      "outputs": [
        {
          "output_type": "stream",
          "name": "stdout",
          "text": [
            "{9, 3, 6}\n"
          ]
        }
      ]
    }
  ]
}