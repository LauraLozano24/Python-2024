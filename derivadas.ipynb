{
  "nbformat": 4,
  "nbformat_minor": 0,
  "metadata": {
    "colab": {
      "provenance": [],
      "history_visible": true
    },
    "kernelspec": {
      "name": "python3",
      "display_name": "Python 3"
    },
    "language_info": {
      "name": "python"
    }
  },
  "cells": [
    {
      "cell_type": "code",
      "execution_count": null,
      "metadata": {
        "id": "qWJPglQrWsQt"
      },
      "outputs": [],
      "source": []
    },
    {
      "cell_type": "markdown",
      "source": [
        "tener el limite de una funcion en python"
      ],
      "metadata": {
        "id": "orR2ANHvXBw0"
      }
    },
    {
      "cell_type": "code",
      "source": [
        "from sympy import symbols, limit, sin\n",
        "x = symbols('x')\n",
        "limit(sin(x)/x,x,4)"
      ],
      "metadata": {
        "colab": {
          "base_uri": "https://localhost:8080/",
          "height": 53
        },
        "id": "yc8IfbSMWuoZ",
        "outputId": "acd5b3c9-2641-44ba-e3b3-935d089e7661"
      },
      "execution_count": null,
      "outputs": [
        {
          "output_type": "execute_result",
          "data": {
            "text/plain": [
              "sin(4)/4"
            ],
            "text/latex": "$\\displaystyle \\frac{\\sin{\\left(4 \\right)}}{4}$"
          },
          "metadata": {},
          "execution_count": 3
        }
      ]
    },
    {
      "cell_type": "markdown",
      "source": [],
      "metadata": {
        "id": "IXTD8_ATWtkE"
      }
    },
    {
      "cell_type": "code",
      "source": [
        "from sympy import symbols, limit, sqrt\n",
        "\n",
        "x = symbols('x')\n",
        "fx = sqrt(x - 1)\n",
        "limit(fx,x,1,'+')\n",
        "#limit((1-2*sin(x))/((pi-6*x,x,0))"
      ],
      "metadata": {
        "colab": {
          "base_uri": "https://localhost:8080/",
          "height": 37
        },
        "id": "H7CwbxKwXZ67",
        "outputId": "ffdbef5c-d05c-4b69-88af-1e3ecdd6fd38"
      },
      "execution_count": null,
      "outputs": [
        {
          "output_type": "execute_result",
          "data": {
            "text/plain": [
              "0"
            ],
            "text/latex": "$\\displaystyle 0$"
          },
          "metadata": {},
          "execution_count": 6
        }
      ]
    },
    {
      "cell_type": "markdown",
      "source": [
        "encontrar la derivada"
      ],
      "metadata": {
        "id": "-boPhv1WZFOS"
      }
    },
    {
      "cell_type": "code",
      "source": [
        "from sympy import symbols, diff, sin\n",
        "x = symbols('x')\n",
        "dx = diff(sin(x)/x, x)\n",
        "dx.subs(x,4).evalf()    #con evalf lo pone en numerico\n"
      ],
      "metadata": {
        "colab": {
          "base_uri": "https://localhost:8080/",
          "height": 37
        },
        "id": "bQTkKw5rZHGG",
        "outputId": "7fa36cf0-67a5-412b-d77a-32b6935ce26a"
      },
      "execution_count": null,
      "outputs": [
        {
          "output_type": "execute_result",
          "data": {
            "text/plain": [
              "-0.116110749259157"
            ],
            "text/latex": "$\\displaystyle -0.116110749259157$"
          },
          "metadata": {},
          "execution_count": 8
        }
      ]
    },
    {
      "cell_type": "markdown",
      "source": [
        "realizar la sig, derivada"
      ],
      "metadata": {
        "id": "b_rJt1UnaL8s"
      }
    },
    {
      "cell_type": "code",
      "source": [
        "from sympy import symbols, diff, exp, ln\n",
        "x = symbols('x')\n",
        "diff(ln(4**(3*x+2)/(5*exp(3*x**5))),x)\n",
        "\n",
        "\n",
        "\n"
      ],
      "metadata": {
        "colab": {
          "base_uri": "https://localhost:8080/",
          "height": 68
        },
        "id": "Rdw144gsaN77",
        "outputId": "fe8643fb-a536-446a-9c1f-2857d3620a32"
      },
      "execution_count": null,
      "outputs": [
        {
          "output_type": "execute_result",
          "data": {
            "text/plain": [
              "5*4**(-3*x - 2)*(-3*4**(3*x + 2)*x**4*exp(-3*x**5) + 3*4**(3*x + 2)*exp(-3*x**5)*log(4)/5)*exp(3*x**5)"
            ],
            "text/latex": "$\\displaystyle 5 \\cdot 4^{- 3 x - 2} \\left(- 3 \\cdot 4^{3 x + 2} x^{4} e^{- 3 x^{5}} + \\frac{3 \\cdot 4^{3 x + 2} e^{- 3 x^{5}} \\log{\\left(4 \\right)}}{5}\\right) e^{3 x^{5}}$"
          },
          "metadata": {},
          "execution_count": 13
        }
      ]
    },
    {
      "cell_type": "markdown",
      "source": [
        "EJERCICIO ROBERTO"
      ],
      "metadata": {
        "id": "OVEtBz4OdVH6"
      }
    },
    {
      "cell_type": "code",
      "source": [
        "from sympy import symbols, diff, exp, ln, sin\n",
        "x = symbols('x')\n",
        "diff(ln(4**(7*x**2)/(5*exp(3*x**5))),x)\n"
      ],
      "metadata": {
        "colab": {
          "base_uri": "https://localhost:8080/",
          "height": 68
        },
        "id": "vAJGPtTLetLK",
        "outputId": "851c714a-0f69-4a1b-c508-0f2b9d488887"
      },
      "execution_count": null,
      "outputs": [
        {
          "output_type": "execute_result",
          "data": {
            "text/plain": [
              "5*(-3*4**(7*x**2)*x**4*exp(-3*x**5) + 14*4**(7*x**2)*x*exp(-3*x**5)*log(4)/5)*exp(3*x**5)/4**(7*x**2)"
            ],
            "text/latex": "$\\displaystyle 5 \\cdot 4^{- 7 x^{2}} \\left(- 3 \\cdot 4^{7 x^{2}} x^{4} e^{- 3 x^{5}} + \\frac{14 \\cdot 4^{7 x^{2}} x e^{- 3 x^{5}} \\log{\\left(4 \\right)}}{5}\\right) e^{3 x^{5}}$"
          },
          "metadata": {},
          "execution_count": 15
        }
      ]
    },
    {
      "cell_type": "markdown",
      "source": [
        "Comprobando igual a 1"
      ],
      "metadata": {
        "id": "S82XU74Gex8Y"
      }
    },
    {
      "cell_type": "code",
      "source": [
        "from sympy import symbols, interate, sin, exp\n",
        "\n",
        "def f(x)\n",
        "\n",
        "  return ln(4**(7*x**2)/(5*exp(3*x**5)))\n",
        "\n"
      ],
      "metadata": {
        "colab": {
          "base_uri": "https://localhost:8080/",
          "height": 68
        },
        "id": "G84Ckr4MdXbp",
        "outputId": "09f150e8-d5d5-4c28-b86f-3df4455ff91a"
      },
      "execution_count": null,
      "outputs": [
        {
          "output_type": "execute_result",
          "data": {
            "text/plain": [
              "5*(-3*4**(7*x**2)*x**4*exp(-3*x**5) + 14*4**(7*x**2)*x*exp(-3*x**5)*log(4)/5)*exp(3*x**5)/4**(7*x**2)"
            ],
            "text/latex": "$\\displaystyle 5 \\cdot 4^{- 7 x^{2}} \\left(- 3 \\cdot 4^{7 x^{2}} x^{4} e^{- 3 x^{5}} + \\frac{14 \\cdot 4^{7 x^{2}} x e^{- 3 x^{5}} \\log{\\left(4 \\right)}}{5}\\right) e^{3 x^{5}}$"
          },
          "metadata": {},
          "execution_count": 14
        }
      ]
    },
    {
      "cell_type": "code",
      "source": [
        "from sympy import symbols, integrate, sin, exp\n",
        "x = symbols('x')\n",
        "integrate(sin(x), x)\n"
      ],
      "metadata": {
        "colab": {
          "base_uri": "https://localhost:8080/",
          "height": 38
        },
        "id": "s0oo4pX4j0Pm",
        "outputId": "eb20e36e-2653-46b7-e71e-b570565fee07"
      },
      "execution_count": null,
      "outputs": [
        {
          "output_type": "execute_result",
          "data": {
            "text/plain": [
              "-cos(x)"
            ],
            "text/latex": "$\\displaystyle - \\cos{\\left(x \\right)}$"
          },
          "metadata": {},
          "execution_count": 18
        }
      ]
    },
    {
      "cell_type": "code",
      "source": [
        "from sympy import symbols, integrate, sin, exp\n",
        "from sympy.plotting import plot\n",
        "x = symbols('x')\n",
        "print(integrate(sin(x), x, (x,-1,1 )))\n",
        "plot(sin(x))\n",
        "integrate(sin(x), x)\n"
      ],
      "metadata": {
        "colab": {
          "base_uri": "https://localhost:8080/",
          "height": 525
        },
        "id": "7Vpcc_4CkQt0",
        "outputId": "b9e4b7ee-27d8-4431-ed33-6b821bb05e2d"
      },
      "execution_count": null,
      "outputs": [
        {
          "output_type": "stream",
          "name": "stdout",
          "text": [
            "-2*sin(1)\n"
          ]
        },
        {
          "output_type": "display_data",
          "data": {
            "text/plain": [
              "<Figure size 640x480 with 1 Axes>"
            ],
            "image/png": "[encoded data removed]"
          },
          "metadata": {}
        },
        {
          "output_type": "execute_result",
          "data": {
            "text/plain": [
              "-cos(x)"
            ],
            "text/latex": "$\\displaystyle - \\cos{\\left(x \\right)}$"
          },
          "metadata": {},
          "execution_count": 19
        }
      ]
    },
    {
      "cell_type": "code",
      "source": [
        "from sympy import symbols, integrate, sin, exp\n",
        "from sympy.plotting import plot\n",
        "x = symbols('x')\n",
        "print(integrate(sin(x), x, (x,-1,1 )))\n",
        "plot(sin(x),(x,-1,1))\n"
      ],
      "metadata": {
        "colab": {
          "base_uri": "https://localhost:8080/",
          "height": 521
        },
        "id": "2xwz81DBk6Ro",
        "outputId": "bf172881-ad2a-40d9-c907-daf7e96143b1"
      },
      "execution_count": null,
      "outputs": [
        {
          "output_type": "stream",
          "name": "stdout",
          "text": [
            "-2*sin(1)\n"
          ]
        },
        {
          "output_type": "display_data",
          "data": {
            "text/plain": [
              "<Figure size 640x480 with 1 Axes>"
            ],
            "image/png": "[encoded data removed]"
          },
          "metadata": {}
        },
        {
          "output_type": "execute_result",
          "data": {
            "text/plain": [
              "<sympy.plotting.plot.Plot at 0x7a7a62be4bb0>"
            ]
          },
          "metadata": {},
          "execution_count": 20
        }
      ]
    },
    {
      "cell_type": "code",
      "source": [
        "from sympy import symbols, integrate, sin, exp\n",
        "\n",
        "x = symbols('x')\n",
        "integrate((1-x)/sqrt(2-x),x)\n",
        "\n"
      ],
      "metadata": {
        "colab": {
          "base_uri": "https://localhost:8080/",
          "height": 69
        },
        "id": "G7RAEqCgm6uu",
        "outputId": "6f94844c-c8e1-4a99-c73a-d6a8efcb4c2f"
      },
      "execution_count": null,
      "outputs": [
        {
          "output_type": "execute_result",
          "data": {
            "text/plain": [
              "Piecewise((2*I*sqrt(x - 2)*(x - 1)/3 + 4*I*sqrt(x - 2)/3, Abs(x - 1) > 1), (2*sqrt(2 - x)*(x - 1)/3 + 4*sqrt(2 - x)/3, True))"
            ],
            "text/latex": "$\\displaystyle \\begin{cases} \\frac{2 i \\sqrt{x - 2} \\left(x - 1\\right)}{3} + \\frac{4 i \\sqrt{x - 2}}{3} & \\text{for}\\: \\left|{x - 1}\\right| > 1 \\\\\\frac{2 \\sqrt{2 - x} \\left(x - 1\\right)}{3} + \\frac{4 \\sqrt{2 - x}}{3} & \\text{otherwise} \\end{cases}$"
          },
          "metadata": {},
          "execution_count": 23
        }
      ]
    },
    {
      "cell_type": "markdown",
      "source": [
        "ecuaciones diferenciales"
      ],
      "metadata": {
        "id": "yEZ2d0mJnofd"
      }
    },
    {
      "cell_type": "code",
      "source": [
        "import numpy as np\n",
        "import matplotlib.pyplot as pl\n",
        "\n",
        "paso = .01\n",
        "p = np.arange(-1, 1, paso)\n",
        "\n",
        "ft = np.sin(np.sqrt(3)*p)*np.tan(P)\n",
        "\n",
        "pl.plot(p,ft, 'r')\n",
        "pl.fill_between(p,ft,color=(1,.616,0,.459))\n",
        "pl.title(\"sin[3^(1/2)t]tan[t]\")\n",
        "pl.show()\n",
        "\n",
        "AreaFt = np.num(paso*ft)\n",
        "print(\"el area bajo la curva es \",AreaFt)\n",
        "\n",
        "#------------\n",
        "version con ciclos\n",
        "#-------------------\n",
        "\n",
        "fx[]\n",
        "area2 = 0\n",
        "def fun2(x):\n",
        "    return np.sin(np.sqrt(3)-x)*np.tan(x)\n",
        "\n",
        "for h in p:\n",
        "    y = fun2(h)\n",
        "    fx.append(y)\n",
        "    area2 += paso*y\n",
        "print(\"el area bajo la curva con ciclos es\", area2)\n",
        "\n",
        "  fig, ax = pl.subplots()\n",
        "  ax.plot(p,fx)\n",
        "  ax.fill_between(p,ft,color(1,0.984,0,459))"
      ],
      "metadata": {
        "colab": {
          "base_uri": "https://localhost:8080/",
          "height": 106
        },
        "id": "EZfRWco7nqsO",
        "outputId": "ece3af71-a82c-4c6a-a402-57c1838358ec"
      },
      "execution_count": null,
      "outputs": [
        {
          "output_type": "error",
          "ename": "SyntaxError",
          "evalue": "invalid syntax (<ipython-input-32-5319a66152b4>, line 18)",
          "traceback": [
            "\u001b[0;36m  File \u001b[0;32m\"<ipython-input-32-5319a66152b4>\"\u001b[0;36m, line \u001b[0;32m18\u001b[0m\n\u001b[0;31m    version con ciclos\u001b[0m\n\u001b[0m            ^\u001b[0m\n\u001b[0;31mSyntaxError\u001b[0m\u001b[0;31m:\u001b[0m invalid syntax\n"
          ]
        }
      ]
    }
  ]
}