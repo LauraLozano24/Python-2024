{
  "nbformat": 4,
  "nbformat_minor": 0,
  "metadata": {
    "colab": {
      "provenance": []
    },
    "kernelspec": {
      "name": "python3",
      "display_name": "Python 3"
    },
    "language_info": {
      "name": "python"
    }
  },
  "cells": [
    {
      "cell_type": "markdown",
      "source": [
        "**SUMA DE DOS VECTORES**"
      ],
      "metadata": {
        "id": "W4P0MGbi4JQi"
      }
    },
    {
      "cell_type": "code",
      "execution_count": null,
      "metadata": {
        "colab": {
          "base_uri": "https://localhost:8080/",
          "height": 435
        },
        "id": "W1xkxTPo2kFD",
        "outputId": "dd5ed830-2ce5-47fe-aff4-76ec6f523cc4"
      },
      "outputs": [
        {
          "output_type": "display_data",
          "data": {
            "text/plain": [
              "<Figure size 640x480 with 1 Axes>"
            ],
            "image/png": "[encoded data removed]"
          },
          "metadata": {}
        }
      ],
      "source": [
        "#Suma de vectores de manera\n",
        "\n",
        "import matplotlib.pyplot as plt\n",
        "\n",
        "def sumaVectores(vec1,vec2):\n",
        "    return (vec1[0] + vec2[0], vec1[1] + vec2[1])\n",
        "\n",
        "vec1 = [3, 6, 9]\n",
        "vec2 = [1, 4, 6]\n",
        "suma = sumaVectores(vec1,vec2)\n",
        "\n",
        "# Grafica la suma\n",
        "plt.quiver(0, 0, vec1[0], vec1[1], color='m', units='xy',scale=1)\n",
        "plt.quiver(vec1[0], vec1[1], vec2[0], vec2[1], color='c',\n",
        "           units='xy', scale=1)\n",
        "plt.quiver(0, 0, suma[0], suma[1], color='y',\n",
        "           units='xy',scale=1)\n",
        "plt.axis('scaled')\n",
        "plt.xlim(0, 10)\n",
        "plt.ylim(0, 10)\n",
        "plt.show()\n",
        "\n",
        "\n"
      ]
    },
    {
      "cell_type": "markdown",
      "source": [
        "Suma de vectores de manera explícita\n",
        "\n",
        "Función que suma dos vectores"
      ],
      "metadata": {
        "id": "b7xqcbhXfgXM"
      }
    },
    {
      "cell_type": "code",
      "source": [
        "def vector_sum(vector1, vector2):\n",
        "\n",
        "# verificar que los dos vectores tengan la misma longitud.\n",
        "  if len(vector1) != len(vector2):\n",
        "    raise ValueError(\"Los vectores deben tener la misma.\")\n",
        "\n",
        "  # Crea un nuevo vector para guardar el resultado.\n",
        "  result = []\n",
        "\n",
        "  # suma los elementos correspondienter de cada vector.\n",
        "  for i in range(len(vector1)):\n",
        "    result.append(vector1[i] + vector2[i])\n",
        "\n",
        "  # Requesa el resultado .\n",
        "  return result\n",
        "\n",
        "# Pruebas de la función vector_sum\n",
        "vector1 = [1, 3, 5]\n",
        "vector2 = [2, 4, 6]\n",
        "result = vector_sum(vector1, vector2)\n",
        "print(f'La suma de {vector1} + {vector2} es {result} \\n')\n",
        "\n",
        "vector1 = [7, 9]\n",
        "vector2 = [8, 10]\n",
        "result = vector_sum(vector1, vector2)\n",
        "print(f'La suma de {vector1} + {vector2} es {result}')"
      ],
      "metadata": {
        "colab": {
          "base_uri": "https://localhost:8080/"
        },
        "id": "f2_sKyIKfa9m",
        "outputId": "e925a24b-e7ee-4fad-ba0e-c68c01f57b05"
      },
      "execution_count": null,
      "outputs": [
        {
          "output_type": "stream",
          "name": "stdout",
          "text": [
            "La suma de [1, 3, 5] + [2, 4, 6] es [3, 7, 11] \n",
            "\n",
            "La suma de [7, 9] + [8, 10] es [15, 19]\n"
          ]
        }
      ]
    }
  ]
}