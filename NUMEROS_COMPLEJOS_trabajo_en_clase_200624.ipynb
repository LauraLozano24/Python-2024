{
  "nbformat": 4,
  "nbformat_minor": 0,
  "metadata": {
    "colab": {
      "provenance": []
    },
    "kernelspec": {
      "name": "python3",
      "display_name": "Python 3"
    },
    "language_info": {
      "name": "python"
    }
  },
  "cells": [
    {
      "cell_type": "markdown",
      "source": [
        "NUMEROS COMPLEJOS"
      ],
      "metadata": {
        "id": "FWn8rPh4a5gn"
      }
    },
    {
      "cell_type": "code",
      "source": [
        "z1=complex(input(\"da un numero complejo : \"))\n",
        "z2=complex(input(\"da otro numero complejo : \"))\n",
        "#z1 = real\n",
        "#z2 = imag\n",
        "\n",
        "print (z1+z2)\n",
        "print (z1-z2)\n",
        "print (z1*z2)\n",
        "print (z1/z2)\n"
      ],
      "metadata": {
        "colab": {
          "base_uri": "https://localhost:8080/"
        },
        "id": "FOQAm0GNuLTc",
        "outputId": "2141cce4-578b-4bbb-b6df-f34f05071ca3"
      },
      "execution_count": null,
      "outputs": [
        {
          "output_type": "stream",
          "name": "stdout",
          "text": [
            "da un numero complejo : 1+2j\n",
            "da otro numero complejo : 3+2j\n",
            "(4+4j)\n",
            "(-2+0j)\n",
            "(-1+8j)\n",
            "(0.5384615384615384+0.30769230769230776j)\n"
          ]
        }
      ]
    },
    {
      "cell_type": "code",
      "execution_count": null,
      "metadata": {
        "colab": {
          "base_uri": "https://localhost:8080/"
        },
        "id": "JAUO3QJ0oGrq",
        "outputId": "e6b44b3d-0c50-44ba-a84a-3a7d162c4391"
      },
      "outputs": [
        {
          "output_type": "stream",
          "name": "stdout",
          "text": [
            "la solucion del sistema es  [0.5        0.33333333 0.25      ]\n"
          ]
        }
      ],
      "source": [
        "import numpy as np\n",
        "from scipy.linalg import solve\n",
        "A = np.array([[2,3,4],[2,6,8],[4,9,-4]])\n",
        "b = np.array([3,5,4])\n",
        "x = solve (A,b)\n",
        "print(\"la solucion del sistema es \", x)"
      ]
    },
    {
      "cell_type": "code",
      "source": [
        "np.allclose(np.dot(A,x),b)     #para combrobar que la operacion de la matriz es correcta\n",
        "\n"
      ],
      "metadata": {
        "colab": {
          "base_uri": "https://localhost:8080/"
        },
        "id": "dESwn-jGv9gJ",
        "outputId": "d4b1d5ed-b253-4ac5-c7b7-6156095ac785"
      },
      "execution_count": null,
      "outputs": [
        {
          "output_type": "execute_result",
          "data": {
            "text/plain": [
              "True"
            ]
          },
          "metadata": {},
          "execution_count": 10
        }
      ]
    },
    {
      "cell_type": "code",
      "source": [
        "\n",
        "import math\n",
        "import numpy\n",
        "import sympy\n",
        "math.sin(math.pi/3)\n"
      ],
      "metadata": {
        "colab": {
          "base_uri": "https://localhost:8080/"
        },
        "id": "nZHDo8s9w27Z",
        "outputId": "9ca0ee50-3380-4fba-b623-3f1304ee91d4"
      },
      "execution_count": null,
      "outputs": [
        {
          "output_type": "execute_result",
          "data": {
            "text/plain": [
              "0.8660254037844386"
            ]
          },
          "metadata": {},
          "execution_count": 14
        }
      ]
    },
    {
      "cell_type": "code",
      "source": [
        "numpy.sin(numpy.pi/3)"
      ],
      "metadata": {
        "colab": {
          "base_uri": "https://localhost:8080/"
        },
        "id": "toZ8Xr1pxuGV",
        "outputId": "95bec46f-dc7d-4552-bb92-b38bcdf09788"
      },
      "execution_count": null,
      "outputs": [
        {
          "output_type": "execute_result",
          "data": {
            "text/plain": [
              "0.8660254037844386"
            ]
          },
          "metadata": {},
          "execution_count": 15
        }
      ]
    },
    {
      "cell_type": "code",
      "source": [
        "sympy.sin(sympy.pi/3)    #con formato de radicales"
      ],
      "metadata": {
        "colab": {
          "base_uri": "https://localhost:8080/",
          "height": 55
        },
        "id": "9lithyOHxwYP",
        "outputId": "2c06342b-a2e1-41ab-f945-dec0234821ef"
      },
      "execution_count": null,
      "outputs": [
        {
          "output_type": "execute_result",
          "data": {
            "text/plain": [
              "sqrt(3)/2"
            ],
            "text/latex": "$\\displaystyle \\frac{\\sqrt{3}}{2}$"
          },
          "metadata": {},
          "execution_count": 16
        }
      ]
    },
    {
      "cell_type": "code",
      "source": [
        "sympy.sin(sympy.pi/5)    #con formato de radianes dentro de radicales"
      ],
      "metadata": {
        "colab": {
          "base_uri": "https://localhost:8080/",
          "height": 68
        },
        "id": "onn3Hpq2yFg9",
        "outputId": "fd025b91-bdf7-4d62-f98b-09acc0206dcf"
      },
      "execution_count": null,
      "outputs": [
        {
          "output_type": "execute_result",
          "data": {
            "text/plain": [
              "sqrt(5/8 - sqrt(5)/8)"
            ],
            "text/latex": "$\\displaystyle \\sqrt{\\frac{5}{8} - \\frac{\\sqrt{5}}{8}}$"
          },
          "metadata": {},
          "execution_count": 18
        }
      ]
    },
    {
      "cell_type": "markdown",
      "source": [],
      "metadata": {
        "id": "dnFc12oByNmr"
      }
    }
  ]
}