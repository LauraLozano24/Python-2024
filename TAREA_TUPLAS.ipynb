{
  "nbformat": 4,
  "nbformat_minor": 0,
  "metadata": {
    "colab": {
      "provenance": []
    },
    "kernelspec": {
      "name": "python3",
      "display_name": "Python 3"
    },
    "language_info": {
      "name": "python"
    }
  },
  "cells": [
    {
      "cell_type": "markdown",
      "source": [
        "R. Laura Lozano V         20 Jun 2024           \n",
        "\n",
        "**SUMA LOS ELEMENTOS DE UNA TUPLAS**"
      ],
      "metadata": {
        "id": "MXTR8imuAqYY"
      }
    },
    {
      "cell_type": "code",
      "execution_count": null,
      "metadata": {
        "colab": {
          "base_uri": "https://localhost:8080/"
        },
        "id": "s0he0G_RAp0E",
        "outputId": "7860f4f7-41ee-4258-9281-9f494dc8220a"
      },
      "outputs": [
        {
          "output_type": "stream",
          "name": "stdout",
          "text": [
            "La suma de los elementos de la tupla es: 36\n"
          ]
        }
      ],
      "source": [
        "def suma_tupla(tupla):\n",
        "    return sum(tupla)\n",
        "\n",
        "# Ejemplo de uso\n",
        "tupla_nums = (0, 7, 0, 8, 1, 9, 6, 5)\n",
        "suma = suma_tupla(tupla_nums)\n",
        "print(\"La suma de los elementos de la tupla es:\", suma)\n"
      ]
    },
    {
      "cell_type": "markdown",
      "source": [
        "**ENCONTRAR EL NUMERO MAYOR DE UNA TUPLA**"
      ],
      "metadata": {
        "id": "pN9pOYuAF0Vb"
      }
    },
    {
      "cell_type": "code",
      "source": [
        "def max_num_tupla(tupla):\n",
        "    return max(tupla)\n",
        "\n",
        "tupla_numeros = (0, 7, 0, 8, 1, 9, 6, 5)\n",
        "resultado = max_num_tupla(tupla_numeros)\n",
        "print(\"El numero mayor de la tupla es:\", resultado)\n"
      ],
      "metadata": {
        "colab": {
          "base_uri": "https://localhost:8080/"
        },
        "id": "o1ApY23eB8rZ",
        "outputId": "ccfc07f0-53d1-4ff8-a34c-7b87dace6e1a"
      },
      "execution_count": null,
      "outputs": [
        {
          "output_type": "stream",
          "name": "stdout",
          "text": [
            "El numero mayor de la tupla es: 9\n"
          ]
        }
      ]
    },
    {
      "cell_type": "markdown",
      "source": [
        "**Ordenar los elementos de una tupla**"
      ],
      "metadata": {
        "id": "aSk65bieCrXJ"
      }
    },
    {
      "cell_type": "code",
      "source": [
        "def ordenar_tupla(tupla):\n",
        "    return tuple(sorted(tupla))\n",
        "\n",
        "tupla_numeros = (0, 7, 0, 8, 1, 9, 6, 5)\n",
        "resultado = ordenar_tupla(tupla_numeros)\n",
        "print(\"La tupla ordenada es:\", resultado)"
      ],
      "metadata": {
        "colab": {
          "base_uri": "https://localhost:8080/"
        },
        "id": "t8GNAcxKCw6h",
        "outputId": "ac37332a-3816-4e48-adb6-dc6d8f96f029"
      },
      "execution_count": null,
      "outputs": [
        {
          "output_type": "stream",
          "name": "stdout",
          "text": [
            "La tupla ordenada es: (0, 0, 1, 5, 6, 7, 8, 9)\n"
          ]
        }
      ]
    },
    {
      "cell_type": "markdown",
      "source": [
        "**CONCATENAR TUPLAS**"
      ],
      "metadata": {
        "id": "kFpXu8JnFsCt"
      }
    },
    {
      "cell_type": "code",
      "source": [
        "def concatenar_tuplas(tupla1, tupla2,tupla3):\n",
        "    return tupla1 + tupla2 + tupla3\n",
        "\n",
        "tupla1 = (\"Hugo\", 10)\n",
        "tupla2 = (\"Paco\", 8)\n",
        "tupla3 = (\"Luis\",6)\n",
        "resultado = concatenar_tuplas(tupla1, tupla2, tupla3 )\n",
        "print(\"La tupla concatenada es:\", resultado)\n"
      ],
      "metadata": {
        "colab": {
          "base_uri": "https://localhost:8080/"
        },
        "id": "juueeknNEsqr",
        "outputId": "53feaecc-4651-436b-d4b3-cee8e385744b"
      },
      "execution_count": null,
      "outputs": [
        {
          "output_type": "stream",
          "name": "stdout",
          "text": [
            "La tupla concatenada es: ('Hugo', 10, 'Paco', 8, 'Luis', 6)\n"
          ]
        }
      ]
    }
  ]
}