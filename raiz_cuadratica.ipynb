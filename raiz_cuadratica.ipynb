{
  "nbformat": 4,
  "nbformat_minor": 0,
  "metadata": {
    "colab": {
      "provenance": []
    },
    "kernelspec": {
      "name": "python3",
      "display_name": "Python 3"
    },
    "language_info": {
      "name": "python"
    }
  },
  "cells": [
    {
      "cell_type": "code",
      "execution_count": null,
      "metadata": {
        "colab": {
          "base_uri": "https://localhost:8080/"
        },
        "id": "DmwvxPyZL-Dl",
        "outputId": "0d8d166e-ca67-4891-a557-779f0092fa52"
      },
      "outputs": [
        {
          "output_type": "stream",
          "name": "stdout",
          "text": [
            "Introduce el valor de a: 9\n",
            "Introduce el valor de b: 1\n",
            "Introduce el valor de c: -2\n",
            "Las raíces son 0.4191113191843072 y -0.5302224302954184\n",
            "Vamos a calcular las raíces de la ecuación cuadrática ax^2 + bx + c = 0\n"
          ]
        }
      ],
      "source": [
        "    ### CALCULAR RAICES DE ECUACION CUADRATICA\n",
        "    import math\n",
        "    import cmath\n",
        "\n",
        "    def calcular_raices():\n",
        "  print(\"Vamos a calcular las raíces de la ecuación cuadrática ax^2 + bx + c = 0\")\n",
        "\n",
        "    # Solicitar los coeficientes al usuario\n",
        "    a = float(input(\"Introduce el valor de a: \"))\n",
        "    b = float(input(\"Introduce el valor de b: \"))\n",
        "    c = float(input(\"Introduce el valor de c: \"))\n",
        "\n",
        "    # Calcula  discriminante para validar raiz\n",
        "    discriminante = b**2 - 4*a*c\n",
        "\n",
        "    if discriminante > 0:             # calcula las dos soluciones reales\n",
        "        raiz1 = (-b + math.sqrt(discriminante)) / (2*a)\n",
        "        raiz2 = (-b - math.sqrt(discriminante)) / (2*a)\n",
        "        print(f\"Las raíces son {raiz1} y {raiz2}\")\n",
        "    elif discriminante == 0:\n",
        "        # Una solución real\n",
        "        raiz = -b / (2*a)\n",
        "        print(f\"La raíz es {raiz}\")\n",
        "    else:\n",
        "        # Soluciones complejas\n",
        "        parte_real = -b / (2*a)\n",
        "        parte_imaginaria = math.sqrt(-discriminante) / (2*a)\n",
        "        raiz1 = complex(parte_real, parte_imaginaria)\n",
        "        raiz2 = complex(parte_real, -parte_imaginaria)\n",
        "        print(f\"Las raíces son {raiz1} y {raiz2}\")\n",
        "\n",
        "# Ejecutar la función\n",
        "calcular_raices()\n"
      ]
    }
  ]
}