{
  "nbformat": 4,
  "nbformat_minor": 0,
  "metadata": {
    "colab": {
      "provenance": []
    },
    "kernelspec": {
      "name": "python3",
      "display_name": "Python 3"
    },
    "language_info": {
      "name": "python"
    }
  },
  "cells": [
    {
      "cell_type": "markdown",
      "source": [
        "ELEMENTOS BASICOS DE MATEMATICAS"
      ],
      "metadata": {
        "id": "8fViQ9O3OeQM"
      }
    },
    {
      "cell_type": "code",
      "execution_count": 1,
      "metadata": {
        "colab": {
          "base_uri": "https://localhost:8080/",
          "height": 0
        },
        "id": "o11PSYEXOdec",
        "outputId": "1cf6c431-4da2-4395-9148-407ae0e4069f"
      },
      "outputs": [
        {
          "output_type": "stream",
          "name": "stdout",
          "text": [
            "0\n",
            "1\n",
            "2\n",
            "3\n",
            "4\n"
          ]
        }
      ],
      "source": [
        "for x in range(5):\n",
        "    print(x)\n",
        ""
      ]
    },
    {
      "cell_type": "markdown",
      "source": [
        "iMPRIME NUMEROS ENTRE 3 Y 5"
      ],
      "metadata": {
        "id": "0FCC1z2COkB6"
      }
    },
    {
      "cell_type": "code",
      "source": [
        "for x in range(3,5):\n",
        "   print(x)"
      ],
      "metadata": {
        "colab": {
          "base_uri": "https://localhost:8080/",
          "height": 0
        },
        "id": "7AmSNNLwOktf",
        "outputId": "bd2ea8bf-0451-4a4d-8f70-3359eac9ea0f"
      },
      "execution_count": 2,
      "outputs": [
        {
          "output_type": "stream",
          "name": "stdout",
          "text": [
            "3\n",
            "4\n"
          ]
        }
      ]
    },
    {
      "cell_type": "markdown",
      "source": [
        "Conjunto de numeros naturales 1 al 20; DOS DIFERENTES MANERAS"
      ],
      "metadata": {
        "id": "4RMg0iAAOwuX"
      }
    },
    {
      "cell_type": "code",
      "source": [
        "U = {1, 2, 3, 4, 5, 6, 7, 8, 9, 10, 11, 12, 13, 14, 15, 16, 17, 18, 19, 20}\n",
        "Uf = {x for x in range(1,21)}\n",
        "conjuntovacio = set()\n",
        "print(U)\n",
        "print(Uf)"
      ],
      "metadata": {
        "colab": {
          "base_uri": "https://localhost:8080/",
          "height": 0
        },
        "id": "01AiFXhxOy4L",
        "outputId": "659ab6b6-4ec5-4fe7-a697-b9aff26351c0"
      },
      "execution_count": 4,
      "outputs": [
        {
          "output_type": "stream",
          "name": "stdout",
          "text": [
            "{1, 2, 3, 4, 5, 6, 7, 8, 9, 10, 11, 12, 13, 14, 15, 16, 17, 18, 19, 20}\n",
            "{1, 2, 3, 4, 5, 6, 7, 8, 9, 10, 11, 12, 13, 14, 15, 16, 17, 18, 19, 20}\n"
          ]
        }
      ]
    },
    {
      "cell_type": "markdown",
      "source": [
        "Conjunto A de numeros x tal que x par ; x < 10"
      ],
      "metadata": {
        "id": "qWGYGrNwO93u"
      }
    },
    {
      "cell_type": "code",
      "source": [
        "A = {x for x in Uf if x%2 == 0 and x < 10}\n",
        "print(A)\n",
        ""
      ],
      "metadata": {
        "colab": {
          "base_uri": "https://localhost:8080/",
          "height": 0
        },
        "id": "PtoVb3SnO-oX",
        "outputId": "0f60b48e-4e61-4920-a453-1b99673dad41"
      },
      "execution_count": 5,
      "outputs": [
        {
          "output_type": "stream",
          "name": "stdout",
          "text": [
            "{8, 2, 4, 6}\n"
          ]
        }
      ]
    },
    {
      "cell_type": "markdown",
      "source": [
        "NUMEROS DE UN DIGITO"
      ],
      "metadata": {
        "id": "_tG4k_m-PAi6"
      }
    },
    {
      "cell_type": "code",
      "source": [
        "E = {x for x in Uf if x < 10}\n",
        "print(E)"
      ],
      "metadata": {
        "colab": {
          "base_uri": "https://localhost:8080/",
          "height": 0
        },
        "id": "GjAuKPKnPEtw",
        "outputId": "a6ae7902-11a0-4ba5-f093-aaf25a9765d3"
      },
      "execution_count": 6,
      "outputs": [
        {
          "output_type": "stream",
          "name": "stdout",
          "text": [
            "{1, 2, 3, 4, 5, 6, 7, 8, 9}\n"
          ]
        }
      ]
    },
    {
      "cell_type": "markdown",
      "source": [
        "MULTIPLOS DE 3"
      ],
      "metadata": {
        "id": "1gZWIJYmPHSq"
      }
    },
    {
      "cell_type": "code",
      "source": [
        "B = {x for x in Uf if x%3 == 0 and x < 10}\n",
        "print(B)\n"
      ],
      "metadata": {
        "colab": {
          "base_uri": "https://localhost:8080/",
          "height": 0
        },
        "id": "oa2elNM-PJRj",
        "outputId": "9c39cd1a-ce98-4846-b6fe-0b9086ccbd1f"
      },
      "execution_count": 10,
      "outputs": [
        {
          "output_type": "stream",
          "name": "stdout",
          "text": [
            "{9, 3, 6}\n"
          ]
        }
      ]
    }
  ]
}