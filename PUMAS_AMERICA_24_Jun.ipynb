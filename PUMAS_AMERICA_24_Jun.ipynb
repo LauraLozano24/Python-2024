{
  "nbformat": 4,
  "nbformat_minor": 0,
  "metadata": {
    "colab": {
      "provenance": []
    },
    "kernelspec": {
      "name": "python3",
      "display_name": "Python 3"
    },
    "language_info": {
      "name": "python"
    }
  },
  "cells": [
    {
      "cell_type": "code",
      "source": [
        "## EQUIPOS DE FUTBOL\n",
        "  i+=1      ## i = i+1from sympy import linsolve, symbols\n",
        "\n",
        "p, a, o = symbols('p a o')\n",
        "aficionado = {p : 'pumas', a: 'américa', o : 'otro equipo'}\n",
        "\n",
        "var =[p, a, o]\n",
        "sol = linsolve([p + a + o - 72000, p - a + 0*o - 8500, 3*p + 3*a - 13*o + 0],\n",
        "         var)\n",
        "print(sol)\n",
        "#print(type(sol))\n",
        "\n",
        "i=0\n",
        "for v in sol:\n",
        "    #print(v)        ## v=(33500, 25,000,13500)\n",
        "    for y in v:\n",
        "        print(f'\\n Los aficionados de {aficionado[var[i]]} son {y}')\n"
      ],
      "metadata": {
        "colab": {
          "base_uri": "https://localhost:8080/"
        },
        "id": "1rJgRZb2Vne3",
        "outputId": "3235081a-ed13-4079-a790-fbf6e0f8d033"
      },
      "execution_count": null,
      "outputs": [
        {
          "output_type": "stream",
          "name": "stdout",
          "text": [
            "{(33500, 25000, 13500)}\n",
            "\n",
            " Los aficionados de pumas son 33500\n",
            "\n",
            " Los aficionados de pumas son 25000\n",
            "\n",
            " Los aficionados de pumas son 13500\n"
          ]
        }
      ]
    },
    {
      "cell_type": "markdown",
      "source": [
        "l estadio universitario tiene la capacidad para 72,000 espectadores, se encuentra lleno durante la celebración de un partido entre los equipos Pumas de la UNAM y el Club América. Unos espectadores son socios de UNAM, otros lo son del América, y el resto no son socios de ninguno de dos equipos que están en el encuentro. A través de la taquilla sabemos lo siguiente:\n",
        "\n",
        "No hay espectadores que sean socios de ambos equipos simultáneamente.\n",
        "Por cada 13 socios de alguno de los dos equipos hay 3 espectadores que no son socios.\n",
        "Los socios de los Pumas UNAM superan en 8500 a los socios del Club América"
      ],
      "metadata": {
        "id": "2C901o-Ela2S"
      }
    },
    {
      "cell_type": "code",
      "source": [
        "import numpy as np\n",
        "a = [[16/13, 16/ 13], [1, -1]]\n",
        "b = [72000, 8500]\n",
        "x = np.linalg.solve(a, b)\n",
        "print(\"La solución del sistema es: \", x)"
      ],
      "metadata": {
        "colab": {
          "base_uri": "https://localhost:8080/"
        },
        "id": "2v485R_-laTg",
        "outputId": "3961fcd6-97bd-4e4c-ed7f-5d521dadb6c9"
      },
      "execution_count": null,
      "outputs": [
        {
          "output_type": "stream",
          "name": "stdout",
          "text": [
            "La solución del sistema es:  [33500. 25000.]\n"
          ]
        }
      ]
    },
    {
      "cell_type": "code",
      "source": [
        "import numpy as np\n",
        "a = [[1, 1, 1], [1, -1, 0], [3, 3, -13]]\n",
        "b = [72000, 8500, 0]\n",
        "x = np.linalg.solve(a, b)\n",
        "print(\"La solución del sistema es: \", x)"
      ],
      "metadata": {
        "colab": {
          "base_uri": "https://localhost:8080/"
        },
        "id": "WzYYTaxYlmwn",
        "outputId": "582bd8f8-3262-4d3f-c1ef-e219ced7ef5a"
      },
      "execution_count": null,
      "outputs": [
        {
          "output_type": "stream",
          "name": "stdout",
          "text": [
            "La solución del sistema es:  [33500. 25000. 13500.]\n"
          ]
        }
      ]
    },
    {
      "cell_type": "markdown",
      "source": [
        "RESOLVIENDO CON  SYMPY Y UTILIZANDO DICCIONARIOS"
      ],
      "metadata": {
        "id": "PT8prqqvlsL6"
      }
    },
    {
      "cell_type": "code",
      "source": [
        "from sympy import linsolve, symbols\n",
        "\n",
        "p, a, o = symbols('p a o')\n",
        "aficionado = {p : 'pumas', a: 'américa', o : 'otro equipo'}\n",
        "\n",
        "var =[p, a, o]\n",
        "sol = linsolve([p + a + o - 72000, p - a + 0*o - 8500, 3*p + 3*a - 13*o + 0],\n",
        "         var)\n",
        "\n",
        "#print(type(sol))\n",
        "\n",
        "i=0\n",
        "for v in sol:\n",
        "    for y in v:\n",
        "        print(f'\\n Los aficionados de {aficionado[var[i]]} son {y}')\n",
        "        i+=1"
      ],
      "metadata": {
        "colab": {
          "base_uri": "https://localhost:8080/"
        },
        "id": "OX4ONulslqo1",
        "outputId": "76cb2d41-98d7-41b4-8100-462f0e0d2233"
      },
      "execution_count": null,
      "outputs": [
        {
          "output_type": "stream",
          "name": "stdout",
          "text": [
            "\n",
            " Los aficionados de pumas son 33500\n",
            "\n",
            " Los aficionados de américa son 25000\n",
            "\n",
            " Los aficionados de otro equipo son 13500\n"
          ]
        }
      ]
    }
  ]
}