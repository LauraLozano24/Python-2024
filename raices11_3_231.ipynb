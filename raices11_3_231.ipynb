{
  "nbformat": 4,
  "nbformat_minor": 0,
  "metadata": {
    "colab": {
      "provenance": []
    },
    "kernelspec": {
      "name": "python3",
      "display_name": "Python 3"
    },
    "language_info": {
      "name": "python"
    }
  },
  "cells": [
    {
      "cell_type": "markdown",
      "source": [
        "Ver con cuantas iteraciones y con cuantas cifras se aproxima correctamente para:\n",
        "\n",
        "raíz de 11 con aproximación 3\n",
        "raíz de 2 con aproximación 1\n",
        "raíz de 231\n",
        "poniendo el parámetro de formato del número a 49 cifras decimales."
      ],
      "metadata": {
        "id": "KfpxfNJZQS2-"
      }
    },
    {
      "cell_type": "code",
      "execution_count": null,
      "metadata": {
        "colab": {
          "base_uri": "https://localhost:8080/"
        },
        "id": "8mc7BQnFQFz0",
        "outputId": "4edff486-0b8a-492f-9ff1-2a35ff17f05a"
      },
      "outputs": [
        {
          "output_type": "stream",
          "name": "stdout",
          "text": [
            "Dame el valor del cual quieres la raíz: 11\n",
            "Da una aproximación: 3\n",
            "La raíz aproximada de  11.0 es 3.31662479035539981 \n",
            "La raíz con math de 11.0 es 3.31662479035539981\n",
            "La suceción es:  [3.333333333333333, 3.3166666666666664, 3.3166247906197652, 3.3166247903554, 3.3166247903554, 3.3166247903554]\n"
          ]
        }
      ],
      "source": [
        "# raíz de 11 con aproximación 3\n",
        "\n",
        "import math\n",
        "\n",
        "n = float(input(\"Dame el valor del cual quieres la raíz: \"))\n",
        "aprox = float(input(\"Da una aproximación: \"))\n",
        "\n",
        "sucRaiz= []\n",
        "\n",
        "for i in range(6):\n",
        "    aprox = (1/2)*(aprox +  n/aprox)\n",
        "    sucRaiz.append(aprox)\n",
        "\n",
        "print(\"La raíz aproximada de  {0} es {1:.20} \".format(n,aprox))\n",
        "print(\"La raíz con math de {0} es {1:.20}\".format(n,math.sqrt(n)))\n",
        "print(\"La suceción es: \", sucRaiz)\n"
      ]
    },
    {
      "cell_type": "code",
      "source": [
        "# raíz de 2 con aproximación 1\n",
        "\n",
        "import math\n",
        "\n",
        "n = float(input(\"Dame el valor del cual quieres la raíz: \"))\n",
        "aprox = float(input(\"Da una aproximación: \"))\n",
        "\n",
        "sucRaiz= []\n",
        "\n",
        "for i in range(6):\n",
        "    aprox = (1/2)*(aprox +  n/aprox)\n",
        "    sucRaiz.append(aprox)\n",
        "\n",
        "print(\"La raíz aproximada de  {0} es {1:.20} \".format(n,aprox))\n",
        "print(\"La raíz con math de {0} es {1:.20}\".format(n,math.sqrt(n)))\n",
        "print(\"La suceción es: \", sucRaiz)\n"
      ],
      "metadata": {
        "colab": {
          "base_uri": "https://localhost:8080/"
        },
        "id": "Vv1EhtGLQiEv",
        "outputId": "795d1000-560e-47a7-e14b-d0c790004dcb"
      },
      "execution_count": null,
      "outputs": [
        {
          "output_type": "stream",
          "name": "stdout",
          "text": [
            "Dame el valor del cual quieres la raíz: 2\n",
            "Da una aproximación: 1\n",
            "La raíz aproximada de  2.0 es 1.4142135623730949234 \n",
            "La raíz con math de 2.0 es 1.4142135623730951455\n",
            "La suceción es:  [1.5, 1.4166666666666665, 1.4142156862745097, 1.4142135623746899, 1.414213562373095, 1.414213562373095]\n"
          ]
        }
      ]
    },
    {
      "cell_type": "code",
      "source": [
        "# raíz de 231 con aproximación\n",
        "from decimal import Decimal, getcontext\n",
        "import math\n",
        "\n",
        "getcontext().prec = 50\n",
        "raiz_231 = Decimal(231).sqrt()\n",
        "print(\"La raíz con math de {0} es {1:.20}\".format(n,raiz_231))\n"
      ],
      "metadata": {
        "colab": {
          "base_uri": "https://localhost:8080/"
        },
        "id": "txx0jHb9QwC5",
        "outputId": "df126e76-96ec-4179-8016-0a0377540e6a"
      },
      "execution_count": null,
      "outputs": [
        {
          "output_type": "stream",
          "name": "stdout",
          "text": [
            "La raíz con math de 231.0 es 15.198684153570663632\n"
          ]
        }
      ]
    },
    {
      "cell_type": "code",
      "source": [
        "from decimal import Decimal, getcontext\n",
        "\n",
        "# Establecer la precisión a 50 dígitos (49 decimales)\n",
        "getcontext().prec = 50\n",
        "\n",
        "# Calcular la raíz cuadrada de 231\n",
        "sqrt_231 = Decimal(231).sqrt()\n",
        "\n",
        "# Imprimir el resultado\n",
        "print(sqrt_231)\n"
      ],
      "metadata": {
        "id": "uxCl4E91SLsI"
      },
      "execution_count": null,
      "outputs": []
    }
  ]
}