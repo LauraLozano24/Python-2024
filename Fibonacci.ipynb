{
  "nbformat": 4,
  "nbformat_minor": 0,
  "metadata": {
    "colab": {
      "provenance": []
    },
    "kernelspec": {
      "name": "python3",
      "display_name": "Python 3"
    },
    "language_info": {
      "name": "python"
    }
  },
  "cells": [
    {
      "cell_type": "markdown",
      "source": [
        "crea fibonacci series"
      ],
      "metadata": {
        "id": "lQ1Tofcxzoai"
      }
    },
    {
      "cell_type": "code",
      "source": [
        "#  codigo fibonacci\n",
        "\n",
        "def fibonacci(n):\n",
        "  if n < 0:\n",
        "    raise ValueError(\"el valor de n  no puede ser negativo\")\n",
        "  if n in [0, 1]:\n",
        "    return n\n",
        "  else:\n",
        "    return fibonacci(n - 1) + fibonacci(n - 2)\n",
        "\n",
        "for i in range(10):\n",
        "  print(fibonacci(i))\n"
      ],
      "metadata": {
        "id": "eAkb6G4jNjOh",
        "colab": {
          "base_uri": "https://localhost:8080/"
        },
        "outputId": "ee3ca401-706b-4a50-dcf8-17ca61a6c4ee"
      },
      "execution_count": null,
      "outputs": [
        {
          "output_type": "stream",
          "name": "stdout",
          "text": [
            "0\n",
            "1\n",
            "1\n",
            "2\n",
            "3\n",
            "5\n",
            "8\n",
            "13\n",
            "21\n",
            "34\n"
          ]
        }
      ]
    }
  ]
}