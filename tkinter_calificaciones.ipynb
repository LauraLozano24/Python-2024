{
  "nbformat": 4,
  "nbformat_minor": 0,
  "metadata": {
    "colab": {
      "provenance": []
    },
    "kernelspec": {
      "name": "python3",
      "display_name": "Python 3"
    },
    "language_info": {
      "name": "python"
    }
  },
  "cells": [
    {
      "cell_type": "markdown",
      "source": [
        "POR FAVOR ME APOYAS, YA LO COPIE Y VOLVI A COPIAR DEL QUE HICIMOS EN CLASE Y ME DA ERROR."
      ],
      "metadata": {
        "id": "qrkbTkeRw5qN"
      }
    },
    {
      "cell_type": "code",
      "execution_count": null,
      "metadata": {
        "id": "ozO5v2Ags58P"
      },
      "outputs": [],
      "source": [
        "from tkinter import Tk, Label, Entry\n",
        "\n",
        "# Diccionario\n",
        "calificaciones = {'Saul' : 8.3 , 'Greta' : 9.5 ,'Alex' : 7.8,\n",
        "                  'Oscar' : 6.9, 'José' : 9.2}\n",
        "\n",
        "\n",
        "# Creo la ventana\n",
        "ventana = Tk()            #NO PUEDO PASAR DE AQUIIIIII\n",
        "ventana.title(\"Calificación del examen final \")\n",
        "ventana.eval('tk::PlaceWindow.center')\n",
        "ventana.geometry('400x200')\n",
        "ventana.resizable(False, False)\n",
        "\n",
        "#Creo los elementos a poner en la ventana\n",
        "texto = Label(ventana,  font=('Helvetica 15 bold'), text = '¿Cuál es tu nombre?')\n",
        "entrada = Entry(ventana, font=('Helvetica 15 bold'),background='#ffa533', width=30)\n",
        "score = Label(ventana,font=('Helvetica 15 bold'),text='')\n",
        "\n",
        "\n",
        "# Pongo los elementos en la ventana\n",
        "texto.pack(side = 'left', padx=(20,5), pady=10)\n",
        "entrada.pack(side='left', padx=(2,20), pady=10)\n",
        "score.pack(side='bottom', padx= (0,10),pady=(100,5))\n",
        "\n",
        "# Toma el dato de la entrada después de dar enter\n",
        "# e imprime el nombre en consola\n",
        "def mi_entrada(event):\n",
        "    nombre = entrada.get()\n",
        "    resultado = calificaciones[nombre]\n",
        "    score.configure(text = 'Ontubiste de calificación  es: '+ str(resultado))\n",
        "\n",
        "# Enlaza el recuadro de entrada con dar Return\n",
        "entrada.bind('<Return>', mi_entrada)\n",
        "\n",
        "ventana.mainloop()"
      ]
    },
    {
      "cell_type": "markdown",
      "source": [],
      "metadata": {
        "id": "NIXJhmhqtXZG"
      }
    }
  ]
}