{
  "nbformat": 4,
  "nbformat_minor": 0,
  "metadata": {
    "colab": {
      "provenance": []
    },
    "kernelspec": {
      "name": "python3",
      "display_name": "Python 3"
    },
    "language_info": {
      "name": "python"
    }
  },
  "cells": [
    {
      "cell_type": "markdown",
      "source": [
        "R. Laura Lozano V.       19 Jun 24\n",
        "\n",
        "Operaciones con conjuntos\n",
        "MODULOS"
      ],
      "metadata": {
        "id": "Peb__KungkzV"
      }
    },
    {
      "cell_type": "code",
      "source": [
        "ClaseEquiv0 = set()\n",
        "ClaseEquiv1 = set()\n",
        "ClaseEquiv2 = set()\n",
        "\n",
        "for i in range(100):\n",
        "    if i % 3 == 0:\n",
        "        ClaseEquiv0.add(i)\n",
        "        ClaseEquiv0.add(-i)\n",
        "    elif i % 3 == 1:\n",
        "        ClaseEquiv1.add(i)\n",
        "        ClaseEquiv1.add(-i)\n",
        "    else:\n",
        "        ClaseEquiv2.add(i)\n",
        "        ClaseEquiv2.add(-i)\n",
        "\n",
        "print(\"Clase [0] =\", sorted(ClaseEquiv1))\n",
        "print(\"Clase [1] =\", sorted(ClaseEquiv1))\n",
        "print(\"Clase [2] =\", sorted(ClaseEquiv2))\n",
        "\n",
        "# Operaciones con dos conjuntos\n",
        "print(\"\\n La unión de dos conjuntos (0 y 1) es: \", sorted(ClaseEquiv0 | ClaseEquiv1))\n",
        "\n",
        "print(\" La intersección de dos conjuntos (0 y 1) es: \", ClaseEquiv0 & ClaseEquiv1)\n",
        "\n",
        "# Operaciones con tres conjuntos\n",
        "print(\" La unión de los tres conjuntos es: \",sorted(ClaseEquiv0 | ClaseEquiv1 | ClaseEquiv2))\n",
        "\n",
        "print(\" La intersección de los tres conjuntos es: \", ClaseEquiv0 & ClaseEquiv1 & ClaseEquiv2)\n",
        "\n",
        "print(\" La unión de los tres conjuntos es: \", sorted(ClaseEquiv0 | ClaseEquiv1 | ClaseEquiv2))\n",
        "\n",
        "print(\" La diferencia de los tres conjuntos es: \", sorted(ClaseEquiv0 - ClaseEquiv1 - ClaseEquiv2))\n",
        "\n",
        "# Comprueba si los conjuntos son DISJUNTOS (isdisjoint)\n",
        "print(\"\\n ClaseEquiv2 y ClaseEquiv0 son disjuntos: \", ClaseEquiv2.isdisjoint(ClaseEquiv0))\n",
        "print(\" ClaseEquiv0 y ClaseEquiv1 son disjuntos: \", ClaseEquiv0.isdisjoint(ClaseEquiv1))\n",
        "print(\" ClaseEquiv1 y ClaseEquiv2 son disjuntos: \", ClaseEquiv1.isdisjoint(ClaseEquiv2))"
      ],
      "metadata": {
        "id": "xalZQWtSgbZZ",
        "colab": {
          "base_uri": "https://localhost:8080/"
        },
        "outputId": "0ebbaae1-64cd-4833-ca7a-7e36aac88981"
      },
      "execution_count": null,
      "outputs": [
        {
          "output_type": "stream",
          "name": "stdout",
          "text": [
            "Clase [0] = [-97, -94, -91, -88, -85, -82, -79, -76, -73, -70, -67, -64, -61, -58, -55, -52, -49, -46, -43, -40, -37, -34, -31, -28, -25, -22, -19, -16, -13, -10, -7, -4, -1, 1, 4, 7, 10, 13, 16, 19, 22, 25, 28, 31, 34, 37, 40, 43, 46, 49, 52, 55, 58, 61, 64, 67, 70, 73, 76, 79, 82, 85, 88, 91, 94, 97]\n",
            "Clase [1] = [-97, -94, -91, -88, -85, -82, -79, -76, -73, -70, -67, -64, -61, -58, -55, -52, -49, -46, -43, -40, -37, -34, -31, -28, -25, -22, -19, -16, -13, -10, -7, -4, -1, 1, 4, 7, 10, 13, 16, 19, 22, 25, 28, 31, 34, 37, 40, 43, 46, 49, 52, 55, 58, 61, 64, 67, 70, 73, 76, 79, 82, 85, 88, 91, 94, 97]\n",
            "Clase [2] = [-98, -95, -92, -89, -86, -83, -80, -77, -74, -71, -68, -65, -62, -59, -56, -53, -50, -47, -44, -41, -38, -35, -32, -29, -26, -23, -20, -17, -14, -11, -8, -5, -2, 2, 5, 8, 11, 14, 17, 20, 23, 26, 29, 32, 35, 38, 41, 44, 47, 50, 53, 56, 59, 62, 65, 68, 71, 74, 77, 80, 83, 86, 89, 92, 95, 98]\n",
            "\n",
            " La unión de dos conjuntos (0 y 1) es:  [-99, -97, -96, -94, -93, -91, -90, -88, -87, -85, -84, -82, -81, -79, -78, -76, -75, -73, -72, -70, -69, -67, -66, -64, -63, -61, -60, -58, -57, -55, -54, -52, -51, -49, -48, -46, -45, -43, -42, -40, -39, -37, -36, -34, -33, -31, -30, -28, -27, -25, -24, -22, -21, -19, -18, -16, -15, -13, -12, -10, -9, -7, -6, -4, -3, -1, 0, 1, 3, 4, 6, 7, 9, 10, 12, 13, 15, 16, 18, 19, 21, 22, 24, 25, 27, 28, 30, 31, 33, 34, 36, 37, 39, 40, 42, 43, 45, 46, 48, 49, 51, 52, 54, 55, 57, 58, 60, 61, 63, 64, 66, 67, 69, 70, 72, 73, 75, 76, 78, 79, 81, 82, 84, 85, 87, 88, 90, 91, 93, 94, 96, 97, 99]\n",
            " La intersección de dos conjuntos (0 y 1) es:  set()\n",
            " La unión de los tres conjuntos es:  [-99, -98, -97, -96, -95, -94, -93, -92, -91, -90, -89, -88, -87, -86, -85, -84, -83, -82, -81, -80, -79, -78, -77, -76, -75, -74, -73, -72, -71, -70, -69, -68, -67, -66, -65, -64, -63, -62, -61, -60, -59, -58, -57, -56, -55, -54, -53, -52, -51, -50, -49, -48, -47, -46, -45, -44, -43, -42, -41, -40, -39, -38, -37, -36, -35, -34, -33, -32, -31, -30, -29, -28, -27, -26, -25, -24, -23, -22, -21, -20, -19, -18, -17, -16, -15, -14, -13, -12, -11, -10, -9, -8, -7, -6, -5, -4, -3, -2, -1, 0, 1, 2, 3, 4, 5, 6, 7, 8, 9, 10, 11, 12, 13, 14, 15, 16, 17, 18, 19, 20, 21, 22, 23, 24, 25, 26, 27, 28, 29, 30, 31, 32, 33, 34, 35, 36, 37, 38, 39, 40, 41, 42, 43, 44, 45, 46, 47, 48, 49, 50, 51, 52, 53, 54, 55, 56, 57, 58, 59, 60, 61, 62, 63, 64, 65, 66, 67, 68, 69, 70, 71, 72, 73, 74, 75, 76, 77, 78, 79, 80, 81, 82, 83, 84, 85, 86, 87, 88, 89, 90, 91, 92, 93, 94, 95, 96, 97, 98, 99]\n",
            " La intersección de los tres conjuntos es:  set()\n",
            " La unión de los tres conjuntos es:  [-99, -98, -97, -96, -95, -94, -93, -92, -91, -90, -89, -88, -87, -86, -85, -84, -83, -82, -81, -80, -79, -78, -77, -76, -75, -74, -73, -72, -71, -70, -69, -68, -67, -66, -65, -64, -63, -62, -61, -60, -59, -58, -57, -56, -55, -54, -53, -52, -51, -50, -49, -48, -47, -46, -45, -44, -43, -42, -41, -40, -39, -38, -37, -36, -35, -34, -33, -32, -31, -30, -29, -28, -27, -26, -25, -24, -23, -22, -21, -20, -19, -18, -17, -16, -15, -14, -13, -12, -11, -10, -9, -8, -7, -6, -5, -4, -3, -2, -1, 0, 1, 2, 3, 4, 5, 6, 7, 8, 9, 10, 11, 12, 13, 14, 15, 16, 17, 18, 19, 20, 21, 22, 23, 24, 25, 26, 27, 28, 29, 30, 31, 32, 33, 34, 35, 36, 37, 38, 39, 40, 41, 42, 43, 44, 45, 46, 47, 48, 49, 50, 51, 52, 53, 54, 55, 56, 57, 58, 59, 60, 61, 62, 63, 64, 65, 66, 67, 68, 69, 70, 71, 72, 73, 74, 75, 76, 77, 78, 79, 80, 81, 82, 83, 84, 85, 86, 87, 88, 89, 90, 91, 92, 93, 94, 95, 96, 97, 98, 99]\n",
            " La diferencia de los tres conjuntos es:  [-99, -96, -93, -90, -87, -84, -81, -78, -75, -72, -69, -66, -63, -60, -57, -54, -51, -48, -45, -42, -39, -36, -33, -30, -27, -24, -21, -18, -15, -12, -9, -6, -3, 0, 3, 6, 9, 12, 15, 18, 21, 24, 27, 30, 33, 36, 39, 42, 45, 48, 51, 54, 57, 60, 63, 66, 69, 72, 75, 78, 81, 84, 87, 90, 93, 96, 99]\n",
            "\n",
            " ClaseEquiv2 y ClaseEquiv0 son disjuntos:  True\n",
            " ClaseEquiv0 y ClaseEquiv1 son disjuntos:  True\n",
            " ClaseEquiv1 y ClaseEquiv2 son disjuntos:  True\n"
          ]
        }
      ]
    },
    {
      "cell_type": "code",
      "source": [
        "# MODIFICANDO EL CODIGO PARA QUE SOLO APAREZCAN 25 VALORES POR LINEA Y OTRAS OPERACIONES DE CONJUNTOS\n",
        "def datos_por_linea(s, name, datos_por_linea = 25):\n",
        "    sorted_list = sorted(s)\n",
        "    print(f\"\\n{name} =\")\n",
        "    for i in range(0, len(sorted_list), datos_por_linea):\n",
        "        print(sorted_list[i:i + datos_por_linea])\n",
        "\n",
        "ClaseEquiv0 = set()\n",
        "ClaseEquiv1 = set()\n",
        "ClaseEquiv2 = set()\n",
        "\n",
        "for i in range(100):\n",
        "    if i % 3 == 0:\n",
        "        ClaseEquiv0.add(i)\n",
        "        ClaseEquiv0.add(-i)\n",
        "    elif i % 3 == 1:\n",
        "        ClaseEquiv1.add(i)\n",
        "        ClaseEquiv1.add(-i)\n",
        "    else:\n",
        "        ClaseEquiv2.add(i)\n",
        "        ClaseEquiv2.add(-i)\n",
        "\n",
        "datos_por_linea(ClaseEquiv0, \"Clase [0]\")\n",
        "datos_por_linea(ClaseEquiv1, \"Clase [1]\")\n",
        "datos_por_linea(ClaseEquiv2, \"Clase [2]\")\n",
        "\n",
        "# Operaciones con dos conjuntos\n",
        "datos_por_linea(ClaseEquiv0 | ClaseEquiv1,\"\\n La unión de los conjuntos 0 y 1 : \")\n",
        "datos_por_linea(ClaseEquiv0 & ClaseEquiv1,\" La intersección de los conjuntos 0 y 1 : \")\n",
        "datos_por_linea(ClaseEquiv0 - ClaseEquiv1,\" La diferencia de los conjuntos 0 y 1 : \")\n",
        "\n",
        "datos_por_linea(ClaseEquiv1 | ClaseEquiv2, \"\\n La unión de los conjuntos 1 y 2 : \")\n",
        "datos_por_linea(ClaseEquiv1 & ClaseEquiv2, \" La intersección de los conjuntos 1 y 2 : \")\n",
        "datos_por_linea(ClaseEquiv1 - ClaseEquiv2, \" La diferencia de los conjuntos 1 y 2 : \")\n",
        "\n",
        "# Operaciones con tres conjuntos\n",
        "datos_por_linea(ClaseEquiv0 | ClaseEquiv1 | ClaseEquiv2, \"\\n La unión de los tres conjuntos\")\n",
        "datos_por_linea(ClaseEquiv0 & ClaseEquiv1 & ClaseEquiv2,\" La intersección de los tres conjuntos\")\n",
        "datos_por_linea(ClaseEquiv0 - ClaseEquiv1 - ClaseEquiv2, \" La diferencia de los tres conjuntos\")"
      ],
      "metadata": {
        "colab": {
          "base_uri": "https://localhost:8080/"
        },
        "id": "5jONkThcMSN-",
        "outputId": "7a8cfad6-ec8b-482e-e2b1-8cc3c7aaf385"
      },
      "execution_count": null,
      "outputs": [
        {
          "output_type": "stream",
          "name": "stdout",
          "text": [
            "\n",
            "Clase [0] =\n",
            "[-99, -96, -93, -90, -87, -84, -81, -78, -75, -72, -69, -66, -63, -60, -57, -54, -51, -48, -45, -42, -39, -36, -33, -30, -27]\n",
            "[-24, -21, -18, -15, -12, -9, -6, -3, 0, 3, 6, 9, 12, 15, 18, 21, 24, 27, 30, 33, 36, 39, 42, 45, 48]\n",
            "[51, 54, 57, 60, 63, 66, 69, 72, 75, 78, 81, 84, 87, 90, 93, 96, 99]\n",
            "\n",
            "Clase [1] =\n",
            "[-97, -94, -91, -88, -85, -82, -79, -76, -73, -70, -67, -64, -61, -58, -55, -52, -49, -46, -43, -40, -37, -34, -31, -28, -25]\n",
            "[-22, -19, -16, -13, -10, -7, -4, -1, 1, 4, 7, 10, 13, 16, 19, 22, 25, 28, 31, 34, 37, 40, 43, 46, 49]\n",
            "[52, 55, 58, 61, 64, 67, 70, 73, 76, 79, 82, 85, 88, 91, 94, 97]\n",
            "\n",
            "Clase [2] =\n",
            "[-98, -95, -92, -89, -86, -83, -80, -77, -74, -71, -68, -65, -62, -59, -56, -53, -50, -47, -44, -41, -38, -35, -32, -29, -26]\n",
            "[-23, -20, -17, -14, -11, -8, -5, -2, 2, 5, 8, 11, 14, 17, 20, 23, 26, 29, 32, 35, 38, 41, 44, 47, 50]\n",
            "[53, 56, 59, 62, 65, 68, 71, 74, 77, 80, 83, 86, 89, 92, 95, 98]\n",
            "\n",
            "\n",
            " La unión de los conjuntos 0 y 1 :  =\n",
            "[-99, -97, -96, -94, -93, -91, -90, -88, -87, -85, -84, -82, -81, -79, -78, -76, -75, -73, -72, -70, -69, -67, -66, -64, -63]\n",
            "[-61, -60, -58, -57, -55, -54, -52, -51, -49, -48, -46, -45, -43, -42, -40, -39, -37, -36, -34, -33, -31, -30, -28, -27, -25]\n",
            "[-24, -22, -21, -19, -18, -16, -15, -13, -12, -10, -9, -7, -6, -4, -3, -1, 0, 1, 3, 4, 6, 7, 9, 10, 12]\n",
            "[13, 15, 16, 18, 19, 21, 22, 24, 25, 27, 28, 30, 31, 33, 34, 36, 37, 39, 40, 42, 43, 45, 46, 48, 49]\n",
            "[51, 52, 54, 55, 57, 58, 60, 61, 63, 64, 66, 67, 69, 70, 72, 73, 75, 76, 78, 79, 81, 82, 84, 85, 87]\n",
            "[88, 90, 91, 93, 94, 96, 97, 99]\n",
            "\n",
            "La intersección de los conjuntos 0 y 1 :  =\n",
            "\n",
            "La diferencia de los conjuntos 0 y 1 :  =\n",
            "[-99, -96, -93, -90, -87, -84, -81, -78, -75, -72, -69, -66, -63, -60, -57, -54, -51, -48, -45, -42, -39, -36, -33, -30, -27]\n",
            "[-24, -21, -18, -15, -12, -9, -6, -3, 0, 3, 6, 9, 12, 15, 18, 21, 24, 27, 30, 33, 36, 39, 42, 45, 48]\n",
            "[51, 54, 57, 60, 63, 66, 69, 72, 75, 78, 81, 84, 87, 90, 93, 96, 99]\n",
            "\n",
            "\n",
            " La unión de los conjuntos 1 y 2 :  =\n",
            "[-98, -97, -95, -94, -92, -91, -89, -88, -86, -85, -83, -82, -80, -79, -77, -76, -74, -73, -71, -70, -68, -67, -65, -64, -62]\n",
            "[-61, -59, -58, -56, -55, -53, -52, -50, -49, -47, -46, -44, -43, -41, -40, -38, -37, -35, -34, -32, -31, -29, -28, -26, -25]\n",
            "[-23, -22, -20, -19, -17, -16, -14, -13, -11, -10, -8, -7, -5, -4, -2, -1, 1, 2, 4, 5, 7, 8, 10, 11, 13]\n",
            "[14, 16, 17, 19, 20, 22, 23, 25, 26, 28, 29, 31, 32, 34, 35, 37, 38, 40, 41, 43, 44, 46, 47, 49, 50]\n",
            "[52, 53, 55, 56, 58, 59, 61, 62, 64, 65, 67, 68, 70, 71, 73, 74, 76, 77, 79, 80, 82, 83, 85, 86, 88]\n",
            "[89, 91, 92, 94, 95, 97, 98]\n",
            "\n",
            "La intersección de los conjuntos 1 y 2 :  =\n",
            "\n",
            "La diferencia de los conjuntos 1 y 2 :  =\n",
            "[-97, -94, -91, -88, -85, -82, -79, -76, -73, -70, -67, -64, -61, -58, -55, -52, -49, -46, -43, -40, -37, -34, -31, -28, -25]\n",
            "[-22, -19, -16, -13, -10, -7, -4, -1, 1, 4, 7, 10, 13, 16, 19, 22, 25, 28, 31, 34, 37, 40, 43, 46, 49]\n",
            "[52, 55, 58, 61, 64, 67, 70, 73, 76, 79, 82, 85, 88, 91, 94, 97]\n",
            "\n",
            "\n",
            " La unión de los tres conjuntos =\n",
            "[-99, -98, -97, -96, -95, -94, -93, -92, -91, -90, -89, -88, -87, -86, -85, -84, -83, -82, -81, -80, -79, -78, -77, -76, -75]\n",
            "[-74, -73, -72, -71, -70, -69, -68, -67, -66, -65, -64, -63, -62, -61, -60, -59, -58, -57, -56, -55, -54, -53, -52, -51, -50]\n",
            "[-49, -48, -47, -46, -45, -44, -43, -42, -41, -40, -39, -38, -37, -36, -35, -34, -33, -32, -31, -30, -29, -28, -27, -26, -25]\n",
            "[-24, -23, -22, -21, -20, -19, -18, -17, -16, -15, -14, -13, -12, -11, -10, -9, -8, -7, -6, -5, -4, -3, -2, -1, 0]\n",
            "[1, 2, 3, 4, 5, 6, 7, 8, 9, 10, 11, 12, 13, 14, 15, 16, 17, 18, 19, 20, 21, 22, 23, 24, 25]\n",
            "[26, 27, 28, 29, 30, 31, 32, 33, 34, 35, 36, 37, 38, 39, 40, 41, 42, 43, 44, 45, 46, 47, 48, 49, 50]\n",
            "[51, 52, 53, 54, 55, 56, 57, 58, 59, 60, 61, 62, 63, 64, 65, 66, 67, 68, 69, 70, 71, 72, 73, 74, 75]\n",
            "[76, 77, 78, 79, 80, 81, 82, 83, 84, 85, 86, 87, 88, 89, 90, 91, 92, 93, 94, 95, 96, 97, 98, 99]\n",
            "\n",
            "La intersección de los tres conjuntos =\n",
            "\n",
            "La diferencia de los tres conjuntos =\n",
            "[-99, -96, -93, -90, -87, -84, -81, -78, -75, -72, -69, -66, -63, -60, -57, -54, -51, -48, -45, -42, -39, -36, -33, -30, -27]\n",
            "[-24, -21, -18, -15, -12, -9, -6, -3, 0, 3, 6, 9, 12, 15, 18, 21, 24, 27, 30, 33, 36, 39, 42, 45, 48]\n",
            "[51, 54, 57, 60, 63, 66, 69, 72, 75, 78, 81, 84, 87, 90, 93, 96, 99]\n"
          ]
        }
      ]
    }
  ]
}