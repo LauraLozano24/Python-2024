{
  "nbformat": 4,
  "nbformat_minor": 0,
  "metadata": {
    "colab": {
      "provenance": []
    },
    "kernelspec": {
      "name": "python3",
      "display_name": "Python 3"
    },
    "language_info": {
      "name": "python"
    }
  },
  "cells": [
    {
      "cell_type": "markdown",
      "source": [
        "TAREA Index, count, remove.\n",
        "\n",
        "El **método INDEX()** en Python se utiliza para buscar un elemento específico en una lista y devuelve el índice de la primera ocurrencia de ese elemento."
      ],
      "metadata": {
        "id": "-h74UpCEuiYl"
      }
    },
    {
      "cell_type": "code",
      "execution_count": null,
      "metadata": {
        "colab": {
          "base_uri": "https://localhost:8080/"
        },
        "id": "tEaHgWn9uhcx",
        "outputId": "a5ecdd0f-59ca-41d5-ecfe-a7cc7c1c396b"
      },
      "outputs": [
        {
          "output_type": "stream",
          "name": "stdout",
          "text": [
            "0\n"
          ]
        }
      ],
      "source": [
        "texto = \"Tarea de Python\"\n",
        "x = texto.index(\"Tarea\")\n",
        "print(x)"
      ]
    },
    {
      "cell_type": "code",
      "source": [
        "texto = \"Tarea de Python\"\n",
        "y = texto.index(\"Python\")\n",
        "print(y)"
      ],
      "metadata": {
        "colab": {
          "base_uri": "https://localhost:8080/"
        },
        "id": "rogkwDfuu4ud",
        "outputId": "1337ff6b-7135-4530-9c1f-9a309ac7a71d"
      },
      "execution_count": null,
      "outputs": [
        {
          "output_type": "stream",
          "name": "stdout",
          "text": [
            "9\n"
          ]
        }
      ]
    },
    {
      "cell_type": "markdown",
      "source": [
        "**COUNT**# Contar cuántas veces aparece una letra  en la cadena de caracteres"
      ],
      "metadata": {
        "id": "eeufdRWMvKSt"
      }
    },
    {
      "cell_type": "code",
      "source": [
        "texto = \"HoLa, ya hiciste La tareA de tu curso de Python. \"\n",
        "# Contar cuántas veces aparece la letra 'a' en la cadena\n",
        "contarL = texto.count('L')\n",
        "contarA = texto.count('a')\n",
        "contarU = texto.count('u')\n",
        "contarR = texto.count('r')\n",
        "contara = texto.count('a')\n",
        "print(f'La letra \"L\" aparece {contarL} veces')\n",
        "print(f'La letra \"a\" aparece {contarA} veces')\n",
        "print(f'La letra \"u\" aparece {contarU} veces')\n",
        "print(f'La letra \"r\" aparece {contarR} veces')\n",
        "print(f'La letra \"A\" aparece {contara} veces')\n",
        "x = contarL + contarA + contarU + contarR + contarA\n",
        "print(\"La cantidad de veces que aparecen las letras en el texto es:\", x)\n",
        "##print(\"El número de veces que 'L' aparece en el texto es:\", contar)"
      ],
      "metadata": {
        "colab": {
          "base_uri": "https://localhost:8080/"
        },
        "id": "UFNrlyGAvNJz",
        "outputId": "3c3b9791-c4e6-48e5-e2ff-29064dc46dd9"
      },
      "execution_count": null,
      "outputs": [
        {
          "output_type": "stream",
          "name": "stdout",
          "text": [
            "La letra \"L\" aparece 2 veces\n",
            "La letra \"a\" aparece 4 veces\n",
            "La letra \"u\" aparece 2 veces\n",
            "La letra \"r\" aparece 2 veces\n",
            "La letra \"A\" aparece 4 veces\n",
            "La cantidad de veces que aparecen las letras en el texto es: 14\n"
          ]
        }
      ]
    },
    {
      "cell_type": "markdown",
      "source": [
        "REMOVE\n",
        "El método remove() se utiliza para eliminar un elemento específico de una lista en python. Toma como argumento el valor del elemento que deseas eliminar y elimina la primera aparición de ese elemento en la lista."
      ],
      "metadata": {
        "id": "vMb2nJyMyXpt"
      }
    },
    {
      "cell_type": "code",
      "source": [
        "sabores = [\"Dulce\", \"Salado\", \"Amargo\", \"Umami\", \"Picante\", 'Starchy', 'Graso']\n",
        "print(sabores)                  # Muestra toda la lista\n",
        "sabores.remove(\"Salado\")        # Eliminar el elemento \"Salado\" de la lista\n",
        "print(sabores)\n",
        "sabores.remove(\"Graso\")         # Eliminar el elemento \"Graso\" de la lista\n",
        "sabores"
      ],
      "metadata": {
        "colab": {
          "base_uri": "https://localhost:8080/"
        },
        "id": "bWkyYaSkyZR3",
        "outputId": "8035923d-f06c-465f-cb74-648a6e688f2a"
      },
      "execution_count": null,
      "outputs": [
        {
          "output_type": "stream",
          "name": "stdout",
          "text": [
            "['Dulce', 'Salado', 'Amargo', 'Umami', 'Picante', 'Starchy', 'Graso']\n",
            "['Dulce', 'Amargo', 'Umami', 'Picante', 'Starchy', 'Graso']\n"
          ]
        },
        {
          "output_type": "execute_result",
          "data": {
            "text/plain": [
              "['Dulce', 'Amargo', 'Umami', 'Picante', 'Starchy']"
            ]
          },
          "metadata": {},
          "execution_count": 22
        }
      ]
    },
    {
      "cell_type": "markdown",
      "source": [
        "elimina con el método pop() se utiliza para eliminar un elemento de una lista en python según su índice."
      ],
      "metadata": {
        "id": "q11kdIIR0YsR"
      }
    },
    {
      "cell_type": "code",
      "source": [
        "sabores = [\"Dulce\", \"Salado\", \"Amargo\", \"Umami\", \"Picante\", 'Starchy', 'Graso']\n",
        "print(sabores)                  # Muestra toda la lista\n",
        "sabores.pop(2)                  # Eliminar el tercer elemento  de la lista\n",
        "print(sabores)\n",
        "sabores.poo(4)                  # Elimina el cuarto elemento de la lista\n",
        "sabores"
      ],
      "metadata": {
        "colab": {
          "base_uri": "https://localhost:8080/"
        },
        "id": "Am33UjJW1B4U",
        "outputId": "55a0050d-714d-46ee-be7a-fefa41d87282"
      },
      "execution_count": null,
      "outputs": [
        {
          "output_type": "stream",
          "name": "stdout",
          "text": [
            "['Dulce', 'Salado', 'Amargo', 'Umami', 'Picante', 'Starchy', 'Graso']\n",
            "['Dulce', 'Salado', 'Umami', 'Picante', 'Starchy', 'Graso']\n"
          ]
        },
        {
          "output_type": "execute_result",
          "data": {
            "text/plain": [
              "['Dulce', 'Salado', 'Umami', 'Picante', 'Starchy']"
            ]
          },
          "metadata": {},
          "execution_count": 23
        }
      ]
    }
  ]
}